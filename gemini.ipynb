{
 "cells": [
  {
   "cell_type": "code",
   "execution_count": 1,
   "metadata": {},
   "outputs": [
    {
     "name": "stderr",
     "output_type": "stream",
     "text": [
      "/home/me/projects/news/myvenv/lib/python3.10/site-packages/tqdm/auto.py:21: TqdmWarning: IProgress not found. Please update jupyter and ipywidgets. See https://ipywidgets.readthedocs.io/en/stable/user_install.html\n",
      "  from .autonotebook import tqdm as notebook_tqdm\n"
     ]
    }
   ],
   "source": [
    "from dotenv import load_dotenv\n",
    "import google.generativeai as genai\n",
    "import os\n",
    "from DBWrappers import ArticlesWrapper\n",
    "\n",
    "\n",
    "# Load env variables from .env file\n",
    "load_dotenv()\n",
    "\n",
    "genai.configure(api_key=os.environ[\"apikey\"])\n",
    "\n",
    "model = genai.GenerativeModel(\"gemini-1.5-flash\")\n"
   ]
  },
  {
   "cell_type": "code",
   "execution_count": 2,
   "metadata": {},
   "outputs": [
    {
     "name": "stdout",
     "output_type": "stream",
     "text": [
      "Hei! Det er fint å høre at du snakker norsk! Hva kan jeg hjelpe deg med i dag? \n",
      "\n"
     ]
    }
   ],
   "source": [
    "response = model.generate_content(f\"Hei, jeg snakker norsk\")\n",
    "print(response.text)\n"
   ]
  },
  {
   "cell_type": "code",
   "execution_count": 23,
   "metadata": {},
   "outputs": [],
   "source": [
    "article_table = ArticlesWrapper()\n",
    "\n",
    "query = \"SELECT header, article from articles\"\n",
    "articles = article_table.get_articles_rows(query)"
   ]
  },
  {
   "cell_type": "code",
   "execution_count": 32,
   "metadata": {},
   "outputs": [
    {
     "name": "stdout",
     "output_type": "stream",
     "text": [
      "Norges rikestebetalte\n",
      "Putins nye hodepine\n",
      "Trapper opp krigen\n",
      "- Da er Märtha «fucked»\n",
      "- Skal tilLofoten\n",
      "SISTE: Evakuerer på grunn av flom\n",
      "Fem barn mistenkt\n",
      "Kan selge selskapersom støtterIsrael\n",
      "Tiltale mot Hamas-ledere\n",
      "- En ubegripelig vanskelig situasjon\n",
      "SISTE: Knivstikking - 15-åring mistenkt\n",
      "Redd forholdetpå 10 minutter\n",
      "Gull: - Helt målløs\n",
      "- Dørgendestille\n",
      "Sonic i Norge:- Helt unikt\n",
      "Har funnet én telefon\n",
      "Vegards aller første triatlon\n",
      "- Tror at folk skalbue på han\n",
      "- Han startetlitt for hardt\n",
      "- Må vurdere omvi skal fortsette\n",
      "- Det skjer noe under det løpet\n",
      "- 45 minutter, deter helt sykt\n",
      "Åpen ombipolarlidelse\n",
      "Raser mot mulig vraking\n",
      "Bildene får fleretil å reagere\n",
      "Store omrokeringer\n",
      "Hadde mistanke i flere år\n",
      "- Har utsatt morenmin for så mangeskuffelser\n",
      "Alarmklokkene ringer\n",
      "- Det får blimellom oss\n",
      "- Sløsing\n",
      "Kan koste degdobbelt\n",
      "83 pølser - én million\n",
      "Magnu$Carl$en\n",
      "Fjerner «kongefamilien»: - Et godt grep\n",
      "Denne aksjenville jegkjøpt nå\n",
      "- Redsel\n",
      "Tok fyr på flytil Bergen\n",
      "10/10\n",
      "Truffet avtømmerbil\n",
      "Göran Fristorp er død\n",
      "Våre bestehøstretter\n",
      "La dem være «soft girls»\n",
      "Over 80 drept\n",
      "Ny PS5  i september\n",
      "Symptomene du skal ta på alvor\n",
      "Skip med farlig lasti nødhavn\n",
      "- Forferdelig oppførsel\n",
      "Spiste bollebit- fikk puste-problemer\n",
      "Heverfarevarsel\n",
      "Går på dagpengerog bygger oppboligportefølje\n",
      "Ilagt besøks-forbud\n",
      "Får sterk kritikk\n",
      "Åpner oppom kreft\n",
      "- Ganske mystisk følelse\n",
      "- Alle ser hvor galt det har gått\n",
      "Politiet lesteboken - så blehan voldstiltalt\n",
      "- Bedre ennjeg trodde\n",
      "- Hjertet hans har sluttet å banke\n",
      "- Direkte urolig\n",
      "Unngår rund(h)juling\n",
      "Nok en trøbletestart for Solbakken\n",
      "Eiendelerselges\n",
      "Dynket i bensinog påtent\n",
      "- Plutselig bare boddehun hos meg\n",
      "Sykdoms-alarm\n",
      "Gjør detteom du blir bittav huggorm\n",
      "- Veldig sårt\n",
      "Ga bort halvefirmaet\n",
      "Tesla måpunge ut\n",
      "- Forferdelig\n",
      "Krimforfatter medfamilie-reality\n",
      "Vekker oppsikt - igjen\n",
      "Her innser huntabben\n",
      "«Jeg elsker kløft»\n",
      "- Noe av det verrejeg har opplevd\n",
      "- Dette er mitt førstemøte med Erik\n",
      "- Skal ikke så myetil før han tenner på alle pluggene\n",
      "- Rette trenerenfor oss\n",
      "Giftet seg\n",
      "- Burde nok kanskje vært opplyst om at de jobber i Ark\n",
      "- Jeg erlettet\n",
      "Luksusklokke i morgengave\n",
      "- Skamløst\n",
      "- Folk ville ikke sitte ved siden av meg\n",
      "Hyller arbeidere\n",
      "Kan bli28 grader\n",
      "Får ikke blokkere innhold fra tenåringer\n",
      "Går viralt: - Fytti helvete\n",
      "Coronautbruddpå lungeavdeling\n",
      "- Gått underradaren. Deter synd\n",
      "Avslører kjole-dramatikk\n",
      "Reddet mannfør de døde\n",
      "Storserie:- Voldsomt\n",
      "Nye instrukser tilgisselvoktere\n",
      "- Han må havært livredd\n",
      "Tar seg ikke ut\n",
      "Peker påSolskjær\n",
      "Mann (45) dødeetter båtulykke\n",
      "Slik bør dubruke AI\n",
      "Skremmenderesultateri Tyskland\n",
      "Koblet skjermtidtil fettlever\n",
      "Ovnsbakttomatsuppe\n",
      "Trøbbel - igjen\n",
      "- Føles ikke ekte\n",
      "Venter barn\n",
      "- Har skutti været\n",
      "Veien videre\n",
      "Sier nei tilStortinget\n",
      "Ranere brukte gass\n",
      "«Rikingen» robbet\n",
      "Statsløs, fordrevetog stuck i Norge\n",
      "Ny sesong!\n",
      "Aslak ble rundlurtav politiet i årevis\n",
      "- Flaut\n",
      "Se alle firesesongene\n",
      "Ny monster-klokke\n",
      "Klarer du ukens kryssord?\n",
      "Hvor ligger dette bygget?\n",
      "Har levd et heltspesielt liv\n",
      "Var bare fireda pappa fikkdiagnosen\n",
      "En vanlig misforståelse\n",
      "Ny teknologi kanrevolusjonereelbilen din\n",
      "Ikke skriv dissefire tegnene\n",
      "- Endret livettotalt\n",
      "Sluttet å leav storebror\n",
      "Blir først ute med avansert selvkjøring\n",
      "Levde luksusliv- sa opp\n",
      "- Har ikke sagtdet til mamma\n",
      "- Kan bli tidenesstørste skandale\n",
      "Bestestudent-PC\n",
      "Testvinner til under 3500\n",
      "Knallgod billig-vin\n",
      "- Minner omhårspray\n",
      "Våre beste oppskrifter med bær\n",
      "OL-bragdensom «flyttet påDagsrevyen»\n",
      "Bli god påvietnamesisk\n",
      "Betaler millioner forHollywood-stemmer\n",
      "- Jeg følermeg søt\n",
      "- Lever påbonustid\n",
      "Unngå dissetabbene\n",
      "Dette kan bety trøbbelfor Google\n",
      "Selger sex påSunny Beach\n",
      "- Trengtehjelp\n",
      "- Kan kjennekreften vokse\n",
      "Rett ut ifast jobb\n",
      "Nye funn om skjermbruk\n",
      "Årets bestemobil\n",
      "Slik sover du bedrei varmen\n",
      "Genialnødlader\n",
      "- Har ingenegne venner\n",
      "Beste krimbok på lenge\n",
      "Derfor forblir du singel\n",
      "- Fratatt tomtenuten å få betalt\n",
      "«Kjerringbil»mot strømmen\n",
      "«Må ha»-brettspillene\n",
      "Rammet av sjeldent syndrom\n",
      "Den beste kjøkken-maskinen\n",
      "Oppgjør medalkoholvaner\n",
      "Derfor skrev hanfremtidsfullmakt\n",
      "Lager is påseks min.\n",
      "Bipolar lidelse: Nye funn\n"
     ]
    }
   ],
   "source": [
    "for i in range(len(articles)):\n",
    "    print(articles[i][0])"
   ]
  },
  {
   "cell_type": "code",
   "execution_count": 33,
   "metadata": {},
   "outputs": [
    {
     "name": "stdout",
     "output_type": "stream",
     "text": [
      "Ja, én av artiklene du har listet opp snakker om Hamas. Artikkelen er tittelen **\"Tiltale mot Hamas-ledere\"** og den beskriver at Justisdepartementet i USA har tatt ut tiltale mot flere Hamas-ledere, inkludert Yahya Sinwar, for massakren i Israel 7. oktober 2023. \n",
      "\n"
     ]
    }
   ],
   "source": [
    "response = model.generate_content(f\"Snakker noen av disse artiklene om hamas?: {articles}\")\n",
    "print(response.text)"
   ]
  }
 ],
 "metadata": {
  "kernelspec": {
   "display_name": "myvenv",
   "language": "python",
   "name": "python3"
  },
  "language_info": {
   "codemirror_mode": {
    "name": "ipython",
    "version": 3
   },
   "file_extension": ".py",
   "mimetype": "text/x-python",
   "name": "python",
   "nbconvert_exporter": "python",
   "pygments_lexer": "ipython3",
   "version": "3.10.12"
  }
 },
 "nbformat": 4,
 "nbformat_minor": 2
}
