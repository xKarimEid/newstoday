{
 "cells": [
  {
   "cell_type": "code",
   "execution_count": 12,
   "metadata": {},
   "outputs": [],
   "source": [
    "from dotenv import load_dotenv\n",
    "import google.generativeai as genai\n",
    "import os \n",
    "\n",
    "\n",
    "# Load env variables from .env file\n",
    "load_dotenv()\n",
    "\n",
    "genai.configure(api_key=os.environ[\"apikey\"])\n",
    "\n",
    "model = genai.GenerativeModel(\"gemini-1.5-flash\")\n"
   ]
  },
  {
   "cell_type": "code",
   "execution_count": 14,
   "metadata": {},
   "outputs": [
    {
     "name": "stdout",
     "output_type": "stream",
     "text": [
      "Jeg er en stor språkmodell, trent av Google. Jeg kan snakke og forstå norsk, men jeg er ikke et menneske. Jeg kan ikke føle eller tenke på samme måte som mennesker. Jeg er et verktøy som kan brukes til å generere tekst, oversette språk og svare på spørsmål. \n",
      "\n",
      "Jeg bruker ikke språk på samme måte som et menneske. Jeg kan ikke \"snakke\" i den forstand at jeg ikke har personlige meninger eller følelser. Jeg følger instruksjoner og leverer informasjon basert på den enorme mengden tekstdata jeg er trent på. \n",
      "\n",
      "Så, for å svare på spørsmålet ditt: Jeg bruker ikke norsk på samme måte som du gjør, men jeg forstår og bruker det for å kommunisere effektivt. \n",
      "\n"
     ]
    }
   ],
   "source": [
    "response = model.generate_content(f\"\")\n",
    "print(response.text)\n"
   ]
  },
  {
   "cell_type": "code",
   "execution_count": null,
   "metadata": {},
   "outputs": [],
   "source": [
    "from urllib.request import urlopen\n",
    "from bs4 import BeautifulSoup\n",
    "\n"
   ]
  }
 ],
 "metadata": {
  "kernelspec": {
   "display_name": "myvenv",
   "language": "python",
   "name": "python3"
  },
  "language_info": {
   "codemirror_mode": {
    "name": "ipython",
    "version": 3
   },
   "file_extension": ".py",
   "mimetype": "text/x-python",
   "name": "python",
   "nbconvert_exporter": "python",
   "pygments_lexer": "ipython3",
   "version": "3.10.12"
  }
 },
 "nbformat": 4,
 "nbformat_minor": 2
}
