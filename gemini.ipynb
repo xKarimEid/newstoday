{
 "cells": [
  {
   "cell_type": "code",
   "execution_count": 1,
   "metadata": {},
   "outputs": [
    {
     "name": "stderr",
     "output_type": "stream",
     "text": [
      "/home/me/projects/news/myvenv/lib/python3.10/site-packages/tqdm/auto.py:21: TqdmWarning: IProgress not found. Please update jupyter and ipywidgets. See https://ipywidgets.readthedocs.io/en/stable/user_install.html\n",
      "  from .autonotebook import tqdm as notebook_tqdm\n"
     ]
    }
   ],
   "source": [
    "from dotenv import load_dotenv\n",
    "import google.generativeai as genai\n",
    "import os\n",
    "from DBWrappers import ArticlesWrapper\n",
    "\n",
    "\n",
    "# Load env variables from .env file\n",
    "load_dotenv()\n",
    "\n",
    "genai.configure(api_key=os.environ[\"apikey\"])\n",
    "\n",
    "model = genai.GenerativeModel(\"gemini-1.5-flash\")\n"
   ]
  },
  {
   "cell_type": "code",
   "execution_count": 2,
   "metadata": {},
   "outputs": [
    {
     "name": "stdout",
     "output_type": "stream",
     "text": [
      "Hei! Det er fint å høre at du snakker norsk! Hva kan jeg hjelpe deg med i dag? \n",
      "\n"
     ]
    }
   ],
   "source": [
    "user = \"Er det noe i nyhetene i dag som handler om vold?\""
   ]
  },
  {
   "cell_type": "code",
   "execution_count": 23,
   "metadata": {},
   "outputs": [],
   "source": [
    "article_table = ArticlesWrapper()\n",
    "\n",
    "query = \"SELECT header, article from articles\"\n",
    "articles = article_table.get_articles_rows(query)"
   ]
  },
  {
   "cell_type": "code",
   "execution_count": 37,
   "metadata": {},
   "outputs": [
    {
     "name": "stdout",
     "output_type": "stream",
     "text": [
      "Jeg kan ikke si med sikkerhet om noen av disse artiklene vil påvirke om du rekker flyet ditt. Det er ingen informasjon om trafikkforhold, flyavgangstider eller andre reiseplaner i tekstene. For å finne ut om du rekker flyet ditt, må du sjekke informasjon om flyavgangstider og trafikkforhold. \n",
      "\n"
     ]
    }
   ],
   "source": [
    "response = model.generate_content(f\"Er det noen artikler av disse som potensielt kan bety at jeg ikke kan rekke å ta flyet mitt? Planen min er å kjøre fra til oslo lufthavn {articles}\")\n",
    "print(response.text)"
   ]
  }
 ],
 "metadata": {
  "kernelspec": {
   "display_name": "myvenv",
   "language": "python",
   "name": "python3"
  },
  "language_info": {
   "codemirror_mode": {
    "name": "ipython",
    "version": 3
   },
   "file_extension": ".py",
   "mimetype": "text/x-python",
   "name": "python",
   "nbconvert_exporter": "python",
   "pygments_lexer": "ipython3",
   "version": "3.10.12"
  }
 },
 "nbformat": 4,
 "nbformat_minor": 2
}
