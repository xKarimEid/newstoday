{
 "cells": [
  {
   "cell_type": "code",
   "execution_count": 6,
   "metadata": {},
   "outputs": [
    {
     "name": "stdout",
     "output_type": "stream",
     "text": [
      "Sport Ikke abonnent Mesterhjernen Adrian Newey (65) mener at Max\n",
      "Verstappen (26) har blitt urettferdig stemplet. Viaplay-kommentator Atle Gulbrandsen forklarer\n",
      "det med at Verstappen ble uskyldig offer for en av\n",
      "de største skandalene i Formel 1-historien. Men la oss ta\n",
      "det fra begynnelsen: – Fra utsiden er jeg ikke sikker\n",
      "på om folk virkelig setter pris på og forstår Max,\n",
      "akkurat som de ikke gjorde med Sebastian (Vettel), sier Newey\n",
      "til podcasten «High Performance». – De har begge opplevd en\n",
      "slags demonisering Framstille som demonisk eller ond (ordbokene.no). til tider,\n",
      "noe som er veldig urettferdig, mener mannen som har vært\n",
      "hjernen bak Red Bulls mesterbil de siste årene. Denne uken\n",
      "ble det kjent at han bytter til Aston Martin. –\n",
      "Og kanskje er det også litt på grunn av britiske\n",
      "medier, om jeg skal være ærlig. Sky har en enorm\n",
      "innflytelse over hele verden. Dekningen deres ganske nasjonalistisk, tør jeg\n",
      "si, og det kan ha en påvirkning. Det er denne\n",
      "trenden innen journalistikk nå for tiden... Det er ofte en\n",
      "tendens til enten å sette folk på en pidestall eller\n",
      "rive dem ned, fortsetter Newey. Verstappen har vunnet tre VM-titler\n",
      "på rad og har en ledelse på 62 poeng i\n",
      "årets mesterskap med åtte løp igjen. Når VG legger Neweys\n",
      "uttalelser frem for Viaplays Atle Gulbrandsen, sier han: – Newey\n",
      "har nok et poeng i at Verstappen ikke blir helt\n",
      "forstått, og at britisk media kan ha en slagside. Men\n",
      "vi må huske at Verstappen har blitt et slags uskyldig\n",
      "offer for en av de største skandalene i sportens historie,\n",
      "nemlig da løpsdirektøren sørget for at Verstappen vant finalen og\n",
      "mesterskapet i 2021. Alle vet at det var feil at\n",
      "Verstappen vant det året, og sånn sett var Verstappen heldig.\n",
      "Samtidig preger nok dommeravgjørelsene fra Abu Dhabi hvordan en del\n",
      "folk ser på Verstappen i dag, men han kan jo\n",
      "ikke noe for at løpsdirektøren gjorde feil. Gulbrandsen legger til:\n",
      "– Verstappen er en av tidenes beste F1-førere og bør\n",
      "respekteres for det, også av britisk media. Ikke at han\n",
      "uskyldig gikk seirende ut av dommerskandalen i 2021. Skandalen som\n",
      "Gulbrandsen viser til, er VM-avslutningen i 2021. På forhånd hadde\n",
      "Red Bulls Verstappen og Mercedes' Lewis Hamilton nøyaktig like mange\n",
      "poeng - men Verstappen hadde én seier mer - og\n",
      "ville bli verdensmester om ingen av dem skulle ta poeng\n",
      "i 2021-finalen i Abu Dhabi. Det lå an til å\n",
      "bli en parademarsj for Lewis Hamilton. Briten tok ledelsen fra\n",
      "første sving og ledet løpet med snaut elleve sekunder da\n",
      "Nicholas Latifi krasjet noen runder før mål. Vraketrestene måtte ryddes.\n",
      "Sikkerhetsbilen kom ut på banen, og feltet ble samlet. Mens\n",
      "Hamilton fortsatte kjøringen, gikk Verstappen i depot og byttet til\n",
      "nye, raskere dekk. Den daværende løpsdirektøren for Formel 1, Michael\n",
      "Masi, tillot en siste runde der Verstappen startet rett bak\n",
      "Hamilton og kjørte forbi briten og til VM-gull. Bilene som\n",
      "lå mellom de to (men som var én runde bak),\n",
      "ble like før løpet startet opp igjen, beordret til å\n",
      "kjøre forbi sikkerhetsbilen etter at de først hadde fått motsatt\n",
      "beskjed. Mercedes la inn protest, som ikke ble tatt til\n",
      "følge. I en rapport våren 2022 fastslo FIA (det internasjonale\n",
      "bilsportforbundet) at Masi ikke hadde fulgt reglene, men at han\n",
      "hadde handlet i god tro og at resultatet derfor ble\n",
      "stående. Informasjon om AI i VG-artikler Et kommersielt samarbeid med\n",
      "Kickback.no VG har ikke ansvar for innhold på eksterne nettsider\n",
      "som det lenkes til. Kopiering av materiale fra VG for\n",
      "bruk annet sted, crawling, skraping, indeksering (for eksempel tekst og\n",
      "datamining) er ikke tillatt uten avtale.\n"
     ]
    }
   ],
   "source": [
    "from rag import RAG \n",
    "\n",
    "user = \"Ligger det noen artikler om sport i nyhetene i dag?\"\n",
    "rag = RAG()\n",
    "\n",
    "text = rag.get_top_k(user, 3)\n",
    "\n",
    "#print(text[0])\n",
    "n = 10\n",
    "words = text[1].split()  # Split the text into words\n",
    "# Join the words back together with '\\n' after every n words\n",
    "formatted_text = '\\n'.join(' '.join(words[i:i + n]) for i in range(0, len(words), n))\n",
    "print(formatted_text)"
   ]
  }
 ],
 "metadata": {
  "kernelspec": {
   "display_name": "myvenv",
   "language": "python",
   "name": "python3"
  },
  "language_info": {
   "codemirror_mode": {
    "name": "ipython",
    "version": 3
   },
   "file_extension": ".py",
   "mimetype": "text/x-python",
   "name": "python",
   "nbconvert_exporter": "python",
   "pygments_lexer": "ipython3",
   "version": "3.10.12"
  }
 },
 "nbformat": 4,
 "nbformat_minor": 2
}
