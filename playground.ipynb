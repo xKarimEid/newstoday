{
 "cells": [
  {
   "cell_type": "code",
   "execution_count": 4,
   "metadata": {},
   "outputs": [
    {
     "name": "stdout",
     "output_type": "stream",
     "text": [
      "Nyheter Ikke abonnent Politiet rykket til stedet etter melding om\n",
      "en slåsskamp. Operasjonsleder Per Eftang i Sør-Øst politidistrikt sier politiet\n",
      "foreløpig ikke kjenner foranledningen til hendelsen. De rykket til parkeringen\n",
      "ved Drammen videregående skole etter å ha fått melding om\n",
      "en slåsskamp mellom fire personer 22.30-tiden onsdag kveld. – Vet\n",
      "dere sikkert hvor mange som var involvert? – Det vet\n",
      "vi ikke sikkert, men det var i alle fall flere\n",
      "enn to, sier han til VG. Torsdag morgen er det\n",
      "ingen som er pågrepet etter hendelsen. Personen som er knivstukket,\n",
      "en mann i 20-årene, er fraktet til sykehus. Tilstanden hans\n",
      "er stabil, opplyser politiet. De ønsker å avhøre fornærmede når\n",
      "det er mulig. – Skjedde knivstikkingen samme sted som slåsskampen?\n",
      "– Det er det grunn til å tro, men vi\n",
      "kan heller ikke utelukke andre steder, sier Eftang. Politiet har\n",
      "foreløpig ikke gjort beslag av kniv eller andre gjenstander på\n",
      "stedet. De jobber med å avhøre vitner og søker etter\n",
      "mulige gjerningspersoner med flere patruljer. – Vi har ikke fått\n",
      "kontroll på noen personer enda. Vi søker med ganske stort\n",
      "ressurspådrag, sier operasjonslederen til VG rundt klokken 23.45. Tips oss\n",
      "Har du tips til denne saken? Send oss informasjon, bilder\n",
      "eller video Informasjon om AI i VG-artikler Et kommersielt samarbeid\n",
      "med Kickback.no VG har ikke ansvar for innhold på eksterne\n",
      "nettsider som det lenkes til. Kopiering av materiale fra VG\n",
      "for bruk annet sted, crawling, skraping, indeksering (for eksempel tekst\n",
      "og datamining) er ikke tillatt uten avtale.\n"
     ]
    }
   ],
   "source": [
    "from rag import RAG \n",
    "\n",
    "user = \"Politiet har vært involvert i dag i flere ulykker\"\n",
    "rag = RAG()\n",
    "\n",
    "text = rag.get_top_k(user, 3)\n",
    "\n",
    "#print(text[0])\n",
    "n = 10\n",
    "words = text[0].split()  # Split the text into words\n",
    "# Join the words back together with '\\n' after every n words\n",
    "formatted_text = '\\n'.join(' '.join(words[i:i + n]) for i in range(0, len(words), n))\n",
    "print(formatted_text)"
   ]
  }
 ],
 "metadata": {
  "kernelspec": {
   "display_name": "myvenv",
   "language": "python",
   "name": "python3"
  },
  "language_info": {
   "codemirror_mode": {
    "name": "ipython",
    "version": 3
   },
   "file_extension": ".py",
   "mimetype": "text/x-python",
   "name": "python",
   "nbconvert_exporter": "python",
   "pygments_lexer": "ipython3",
   "version": "3.10.12"
  }
 },
 "nbformat": 4,
 "nbformat_minor": 2
}
