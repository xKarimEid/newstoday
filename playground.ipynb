{
 "cells": [
  {
   "cell_type": "code",
   "execution_count": 1,
   "metadata": {},
   "outputs": [
    {
     "name": "stderr",
     "output_type": "stream",
     "text": [
      "/home/me/projects/news/myvenv/lib/python3.10/site-packages/tqdm/auto.py:21: TqdmWarning: IProgress not found. Please update jupyter and ipywidgets. See https://ipywidgets.readthedocs.io/en/stable/user_install.html\n",
      "  from .autonotebook import tqdm as notebook_tqdm\n"
     ]
    }
   ],
   "source": [
    "from dotenv import load_dotenv\n",
    "import google.generativeai as genai\n",
    "import os\n",
    "from DBWrappers import ArticlesWrapper\n",
    "\n",
    "\n",
    "# Load env variables from .env file\n",
    "load_dotenv()\n",
    "\n",
    "genai.configure(api_key=os.environ[\"apikey\"])\n",
    "\n",
    "model = genai.GenerativeModel(\"gemini-1.5-flash\")\n"
   ]
  },
  {
   "cell_type": "code",
   "execution_count": 2,
   "metadata": {},
   "outputs": [],
   "source": [
    "from DBWrappers import EmbeddingWrapper\n",
    "\n",
    "emb = EmbeddingWrapper()"
   ]
  },
  {
   "cell_type": "code",
   "execution_count": 3,
   "metadata": {},
   "outputs": [
    {
     "name": "stdout",
     "output_type": "stream",
     "text": [
      "The following error occured execute expected at most 2 arguments, got 3\n"
     ]
    }
   ],
   "source": [
    "text = \"Hello world,\"\n",
    "embeddings = genai.embed_content(model=\"models/text-embedding-004\", content=text)\n",
    "\n",
    "emb.insert_embedding(text, embeddings['embedding'])"
   ]
  }
 ],
 "metadata": {
  "kernelspec": {
   "display_name": "myvenv",
   "language": "python",
   "name": "python3"
  },
  "language_info": {
   "codemirror_mode": {
    "name": "ipython",
    "version": 3
   },
   "file_extension": ".py",
   "mimetype": "text/x-python",
   "name": "python",
   "nbconvert_exporter": "python",
   "pygments_lexer": "ipython3",
   "version": "3.10.12"
  }
 },
 "nbformat": 4,
 "nbformat_minor": 2
}
