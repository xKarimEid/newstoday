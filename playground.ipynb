{
 "cells": [
  {
   "cell_type": "code",
   "execution_count": 3,
   "metadata": {},
   "outputs": [
    {
     "name": "stdout",
     "output_type": "stream",
     "text": [
      "Basert på informasjonen jeg har, kan jeg fortelle deg om flere nyheter om krigen i Ukraina og Russland:\n",
      "\n",
      "* **Russland truer med å se på USA og Europa som delaktige i krigen dersom Ukraina får bruke langtrekkende vestlige våpen.**  Russlands president Putin hevder at det å gi Ukraina slike våpen ville innebære at Nato-landene er direkte involvert i konflikten, ettersom de ville måtte hjelpe til med programmeringen av våpnene. Han truer med å ta beslutninger basert på de nye truslene, uten å utdype hva dette betyr. Storbritannias statsminister Keir Starmer svarte at Russland startet konflikten og kan stoppe den når som helst.\n",
      "* **Russlands militære fremstøt truer med å ta den viktige byen Pokrovsk, som er et knutepunkt for forsyninger til Ukrainas forsvarslinje.** Russiske styrker har avansert raskt og befinner seg nå like utenfor byen. Analytikere frykter at tapet av Pokrovsk vil splitte Ukrainas forsyningslinje og føre til et sammenbrudd i forsvarslinjen. Ukrainere kjemper for å holde ut i fire uker til, før de får en mulighet til å forsterke forsvaret sitt.\n",
      "* **Ukrainas energiinfrastruktur er under konstant angrep, og landets befolkning står overfor en usikker vinter.** Russland har økt angrepene mot kraftverk, noe som har gjort Ukraina avhengig av kjernekraft og strømimport fra Europa. Statsminister Sjmyhal sier at strømmen blir en av de største utfordringene i år, og at vinteren vil være like vanskelig som de forrige. Ukraina jobber med å desentralisere kraftproduksjonen med hjelp fra sine europeiske allierte, for å bli mindre sårbare for russiske angrep.\n",
      "* **Russiske bombefly har fløyet over Barentshavet og Norskehavet som en del av en stor marineøvelse.** Norske F-35-fly fulgte med på flyene og identifiserte dem som russiske, men de krenket ikke norsk luftrom. Russiske myndigheter har oppgitt at øvelsen \"Ocean-2024\" omfatter over 90.000 soldater, 400 fartøy og 125 fly, og skal pågå til 16. september.\n",
      "\n",
      "Det er verdt å merke seg at informasjonen jeg har ikke inneholder noen detaljer om de siste militære bevegelsene eller eventuelle politiske endringer i forhold til krigen. \n",
      "\n"
     ]
    }
   ],
   "source": [
    "from rag import RAG \n",
    "\n",
    "\n",
    "user = \"Hva sier nyhetene om krigen i ukraina og russland?\"\n",
    "\n",
    "rag = RAG()\n",
    "\n",
    "result = rag.search_news(user, 5)\n",
    "\n",
    "print(result)"
   ]
  }
 ],
 "metadata": {
  "kernelspec": {
   "display_name": "myvenv",
   "language": "python",
   "name": "python3"
  },
  "language_info": {
   "codemirror_mode": {
    "name": "ipython",
    "version": 3
   },
   "file_extension": ".py",
   "mimetype": "text/x-python",
   "name": "python",
   "nbconvert_exporter": "python",
   "pygments_lexer": "ipython3",
   "version": "3.10.12"
  }
 },
 "nbformat": 4,
 "nbformat_minor": 2
}
