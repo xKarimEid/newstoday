{
 "cells": [
  {
   "cell_type": "code",
   "execution_count": 3,
   "metadata": {},
   "outputs": [],
   "source": [
    "from webscrape import VGScraper\n",
    "\n",
    "scraper = VGScraper()\n",
    "url_data = scraper.get_article_urls()\n",
    "article = scraper.get_article_from_url(url_data[0]['article_url'])\n",
    "\n"
   ]
  },
  {
   "cell_type": "code",
   "execution_count": 5,
   "metadata": {},
   "outputs": [
    {
     "data": {
      "text/plain": [
       "'Nyheter Ikke abonnent – Dusøren var på 50.000 i går. I dag setter jeg den opp til 100.000, sier Lars Ole «Rikingen» Johansen til VG. Det var søndag kveld at 58-åringen fikk en telefon fra en nabo om at et vindu på hytta hans på Ballstad i Lofoten var knust.  – Jeg er i Oslo, så jeg ringte faren og broren min for å dra ned for å se, forteller han mandag kveld til VG. Over telefonen fikk han beskjed om at vinduet på hytta var brutt opp. Det samme var også safen som sto i rommet innenfor. – De tok masse verdisaker, det var Louis Vuitton-vesker, smykker, halskjeder og armbånd. Det var også boksehansker fra Louis Vuitton som er designet av Karl Lagerfeld. Det kun er laget 75 stykker i hele verden. De ligger på rundt 600.000 kroner, sier han. Lofotposten omtalte saken først. Han anslår selv at det er snakk om verdisaker til over en million kroner. Johansen har tjent seg styrtrik på selskapet Oslo Liftutleie og ble rikskjendis med VGTV-serien «Rikingen» i 2010. Se traileren til «Rikingen» her: Nå utlover Johansen en dusør på 100.000 kroner for tips som får saken oppklart, forteller han. – Jeg synes det er trist. Det er en alvorlig sak. Det er veldig kjedelig egentlig for alle i området når sånt skjer, det skaper bare uro, sier han, og fortsetter: – Jeg har brukt 20 millioner på den hytta. Er det sånn verden er blitt? Men men, livet går videre, man klarer seg uten disse materialistiske tingene. Han roser politiet for innsatsen og forteller at de har overvåket hytta gjennom natten og gjort undersøkelser på stedet. – Det var alarm på hytta, men den hadde de slått av, sier han. – Det lå også igjen et svært brekkjern og de hadde mistet noen smykker på veien ut. Fungerende politistasjonssjef Dag Sture Strøm ved Vest-Lofoten politistasjon sier til Lofotposten at politiet undersøker saken. – Det er svært mange etterforskningsspor som skal sjekkes ut og vi er helt i startfasen. Vi har foreløpig ingen mistenkte i saken, sier Strøm til avisen. Hvis noen har tips i saken, ber politiet om at man tar kontakt på telefon 02800. Politijurist Sylvi Elvedahl sier til NRK at de foreløpig ikke har en oversikt over alt som er stjålet, men forteller at det skal være «store verdier» som er borte. Informasjon om AI i VG-artikler Et kommersielt samarbeid med Kickback.no VG har ikke ansvar for innhold på eksterne nettsider som det lenkes til. Kopiering av materiale fra VG for bruk annet sted, crawling, skraping, indeksering (for eksempel tekst og datamining) er ikke tillatt uten avtale.'"
      ]
     },
     "execution_count": 5,
     "metadata": {},
     "output_type": "execute_result"
    }
   ],
   "source": [
    "url = url_data[0]['article_url']\n",
    "newspaper = url_data[0]['newspaper']\n",
    "header = url_data[0]['header']\n"
   ]
  },
  {
   "cell_type": "code",
   "execution_count": 15,
   "metadata": {},
   "outputs": [],
   "source": [
    "import sqlite3\n",
    "\n",
    "\n",
    "def drop_table():\n",
    "    with sqlite3.connect('news.db') as conn:\n",
    "        # Create a cursor object using the context manager\n",
    "        cursor = conn.cursor()\n",
    "        # Create table if it doesn't exist\n",
    "        cursor.execute('''\n",
    "                    DROP TABLE articles\n",
    "                    ''')\n",
    "\n",
    "\n",
    "\n",
    "# Connect to the database (or create it if it doesn't exist)\n",
    "with sqlite3.connect('news.db') as conn:\n",
    "    # Create a cursor object using the context manager\n",
    "    cursor = conn.cursor()\n",
    "    # Create table if it doesn't exist\n",
    "    cursor.execute('''\n",
    "                   CREATE TABLE IF NOT EXISTS articles\n",
    "                   (article_id INTEGER PRIMARY KEY, \n",
    "                   header TEXT UNIQUE,\n",
    "                   newspaper text, \n",
    "                   url text UNIQUE,\n",
    "                   article text NOT NULL)\n",
    "                   ''')\n",
    "\n"
   ]
  },
  {
   "cell_type": "code",
   "execution_count": 16,
   "metadata": {},
   "outputs": [],
   "source": [
    "\n",
    "\n",
    "with sqlite3.connect('news.db') as conn:\n",
    "    # Create a cursor object using the context manager\n",
    "    cursor = conn.cursor()\n",
    "    cursor.execute(\"\"\"INSERT OR IGNORE INTO articles (header, newspaper, url, article)\n",
    "                      VALUES (?, ?, ?, ?)\"\"\",\n",
    "                   (header, newspaper, url, article))"
   ]
  },
  {
   "cell_type": "code",
   "execution_count": 18,
   "metadata": {},
   "outputs": [
    {
     "name": "stdout",
     "output_type": "stream",
     "text": [
      "1\n"
     ]
    }
   ],
   "source": [
    "with sqlite3.connect('news.db') as conn:\n",
    "    cursor = conn.cursor()\n",
    "    cursor.execute(\"SELECT * FROM articles\")\n",
    "    rows = cursor.fetchall()\n",
    "\n",
    "print(len(rows))"
   ]
  }
 ],
 "metadata": {
  "kernelspec": {
   "display_name": "myvenv",
   "language": "python",
   "name": "python3"
  },
  "language_info": {
   "codemirror_mode": {
    "name": "ipython",
    "version": 3
   },
   "file_extension": ".py",
   "mimetype": "text/x-python",
   "name": "python",
   "nbconvert_exporter": "python",
   "pygments_lexer": "ipython3",
   "version": "3.10.12"
  }
 },
 "nbformat": 4,
 "nbformat_minor": 2
}
