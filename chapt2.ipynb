{
 "cells": [
  {
   "cell_type": "code",
   "execution_count": 2,
   "metadata": {},
   "outputs": [],
   "source": [
    "import requests\n",
    "from urllib.request import urlopen\n",
    "from bs4 import BeautifulSoup\n"
   ]
  },
  {
   "cell_type": "code",
   "execution_count": 29,
   "metadata": {},
   "outputs": [
    {
     "name": "stdout",
     "output_type": "stream",
     "text": [
      "b'<html>\\n<head>\\n<title>A Useful Page</title>\\n</head>\\n<body>\\n<h1>An Interesting Title</h1>\\n<div>\\nLorem ipsum dolor sit amet, consectetur adipisicing elit, sed do eiusmod tempor incididunt ut labore et dolore magna aliqua. Ut enim ad minim veniam, quis nostrud exercitation ullamco laboris nisi ut aliquip ex ea commodo consequat. Duis aute irure dolor in reprehenderit in voluptate velit esse cillum dolore eu fugiat nulla pariatur. Excepteur sint occaecat cupidatat non proident, sunt in culpa qui officia deserunt mollit anim id est laborum.\\n</div>\\n</body>\\n</html>\\n'\n"
     ]
    }
   ],
   "source": [
    "vg = 'https://www.vg.no/'\n",
    "url = 'https://pythonscraping.com/pages/page1.html'\n",
    "html = urlopen(url).read()\n",
    "\n",
    "print(html)"
   ]
  },
  {
   "cell_type": "code",
   "execution_count": 28,
   "metadata": {},
   "outputs": [
    {
     "name": "stdout",
     "output_type": "stream",
     "text": [
      "<h1 class=\"screen-reader-hidden\">VG Forside</h1>\n"
     ]
    }
   ],
   "source": [
    "\n",
    "html = urlopen(vg)\n",
    "\n",
    "bs = BeautifulSoup(html, 'html.parser')\n",
    "print(bs.h1)"
   ]
  },
  {
   "cell_type": "code",
   "execution_count": 11,
   "metadata": {},
   "outputs": [
    {
     "data": {
      "text/plain": [
       "b'<html>\\n<head>\\n<title>A Useful Page</title>\\n</head>\\n<body>\\n<h1>An Interesting Title</h1>\\n<div>\\nLorem ipsum dolor sit amet, consectetur adipisicing elit, sed do eiusmod tempor incididunt ut labore et dolore magna aliqua. Ut enim ad minim veniam, quis nostrud exercitation ullamco laboris nisi ut aliquip ex ea commodo consequat. Duis aute irure dolor in reprehenderit in voluptate velit esse cillum dolore eu fugiat nulla pariatur. Excepteur sint occaecat cupidatat non proident, sunt in culpa qui officia deserunt mollit anim id est laborum.\\n</div>\\n</body>\\n</html>\\n'"
      ]
     },
     "execution_count": 11,
     "metadata": {},
     "output_type": "execute_result"
    }
   ],
   "source": [
    "requests.get(url).content"
   ]
  },
  {
   "cell_type": "code",
   "execution_count": 53,
   "metadata": {},
   "outputs": [],
   "source": [
    "url = 'https://www.pythonscraping.com/pages/warandpeace.html'\n",
    "\n",
    "def get_html(url):\n",
    "    try:\n",
    "        html = urlopen(url)\n",
    "        bs = BeautifulSoup(html, 'html.parser')\n",
    "        return bs\n",
    "    \n",
    "    except Exception as e:\n",
    "        print(f\"Error occured {e}\")\n",
    "        return None\n",
    "\n",
    "html = get_html(url)\n",
    "\n",
    "# Find_all takes tagName, tagAttributes\n",
    "names = html.find_all('span', {'class': 'green'})\n",
    "for name in names:\n",
    "    pass\n",
    "    #print(name.get_text())"
   ]
  },
  {
   "cell_type": "code",
   "execution_count": 60,
   "metadata": {},
   "outputs": [],
   "source": [
    "url = 'https://www.vg.no/'\n",
    "\n",
    "def get_html(url):\n",
    "    try:\n",
    "        html = urlopen(url)\n",
    "        bs = BeautifulSoup(html, 'html.parser')\n",
    "        return bs\n",
    "    \n",
    "    except Exception as e:\n",
    "        print(f\"Error occured {e}\")\n",
    "        return None\n",
    "\n",
    "html = get_html(url)\n",
    "\n"
   ]
  },
  {
   "cell_type": "code",
   "execution_count": 61,
   "metadata": {},
   "outputs": [
    {
     "data": {
      "text/plain": [
       "170"
      ]
     },
     "execution_count": 61,
     "metadata": {},
     "output_type": "execute_result"
    }
   ],
   "source": [
    "\n",
    "def get_urls(html):\n",
    "    urls = []\n",
    "    # Find_all takes tagName, tagAttributes\n",
    "    names = html.find_all('a', {'itemprop': 'url'})\n",
    "    for name in names:\n",
    "        if 'href' in name.attrs:\n",
    "            urls.append(name['href'])\n",
    "            #print(name.get_text())\n",
    "    \n",
    "    return urls\n",
    "\n",
    "urls = get_urls(html)\n",
    "len(urls)"
   ]
  },
  {
   "cell_type": "code",
   "execution_count": 70,
   "metadata": {},
   "outputs": [
    {
     "data": {
      "text/plain": [
       "'RampelysIkke abonnentFilmkompisene George Clooney og Brad Pitt lettet på sløret i Venezia søndag – både om planene for sin nye film og om Joe Biden.De to er aktuelle med krim-thriller-komedien «Wolfs», som opprinnelig skulle få kinovisning via Sony Pictures verden over før Apple TV+ legger den utfor strømming.Men rundt juletider bestemte Apple at de vil ha begrenset med kinovisning. Filmen settes opp på det store lerretet 20. september, men bare etter en uke får den strømmepremiere.Det misliker Clooney (63) og Pitt (60). Begge innrømmet i Venezia at de har kuttet i sine egne honorarer for å unngå denne løsningen, skriver Deadline.– Vi har støtt på noen hindringer underveis. Sånt skjer, sa Clooney på en pressekonferanse for filmen søndag.Clooney har vært borti det samme før.– Da jeg gjorde «The Boys in the Boat» (i fjor, red. anm.), var det for MGM, men så endte den opp hos Amazon, og vi fikk ingen utenlandslansering i det hele tatt, noe som var en overraskelse, forklarte han. – Det er sider ved dette som vi prøver å finne ut av. For det er selvfølgelig en nedtur, absolutt en nedtur. (...) Vi får en lansering i noen hundre kinoer. Men, ja, det hadde vært bedre med en bredere lansering.Clooney og Pitt skal likevel ha presisert at de mener strømming er viktig for bransjen.– Dette er en revolusjon for vår industri, sa Clooney – som maner til å finne en måte kinodistributørene og strømmegigantene kan samarbeide for felles gevinst.Pitt har for øvrig med seg kjæresten Ines de Ramon (34) til festivalen. To måneder har gått siden de to første gang viste seg offisielt sammen.Paret skred opp den røde løperen hånd i hånd søndag kveld. Det er første gang de to virkelig flagger at de er kjærester.Helt siden november 2022 har amerikanske medier spekulert rundt hvorvidt Pitt har falt for den 26 år yngre smykkedesigneren og forretningskvinnen. Nå er det ingen tvil lenger.George Clooney har med seg kona Amal Clooney (46) . De poserte tett omsvermet.Amal, berømt menneskerettighetsadvokat, er blitt blondere i håret siden sist hun viste seg i rampelyset.Om Clooney er misfornøyd med filmdistrubusjonen, så er den politisk engasjerte Hollywood-stjernen svært fornøyd med utviklingen før presidentvalget i USA.63-åringen, som er demokrat på sin hals, var blant dem som gikk ut og innstendig oppfordret president Joe Biden (81) om å trekke seg fra det kommende valget.Finn ut hvor favorittseriene dine kan streames. Bruk VGs TV-guide!Ikke lenge etter ble Clooney og de andre bønnhørt. Biden trakk seg 21. juli.– Jeg har ikke blitt spurt om hva jeg tenker om dette, så derfor tenker jeg å gjøre det her – og skal ha fått applaus fra salen.– Den som fortjener applaus, er presidenten som har stått for den mest uselviske handlingen siden George WashingtonI 1789 ble han valgt til USAs første president, og ble gjenvalgt i 1792. I 1796 avslo han å stille til valg for en tredje periode., sa Clooney.Han fortsatte:– Det er veldig vanskelig å gi fra seg makt, det vet vi. Vi har sett det over hele verden. Og for noen å si at «jeg tror det finnes en bedre vei fremover» – all ære til ham. Det er virkelig sannheten. «Wolfs» handler for øvrig om en profesjonell fikser som blir leid inn for å dekke over en høyprofilert forbrytelse. Men en annen fikser dukker opp, og de to må motvillig samarbeide.Filmen får sin første pressevisning i Venezia mandag.Clooney og Pitt har spilt i en lang rekke filmer sammen opp gjennom årene, deriblant «Oceans»-filmene og «Burn After Reading».Informasjon om AI i VG-artiklerEt kommersielt samarbeid med Kickback.noVG har ikke ansvar for innhold på eksterne nettsider som det lenkes til. Kopiering av materiale fra VG for bruk annet sted, crawling, skraping, indeksering (for eksempel tekst og datamining) er ikke tillatt uten avtale.'"
      ]
     },
     "execution_count": 70,
     "metadata": {},
     "output_type": "execute_result"
    }
   ],
   "source": [
    "url = urls[2]\n",
    "\n",
    "def get_article_from_url(url):\n",
    "    req = urlopen(url)\n",
    "    bs = BeautifulSoup(req, 'html.parser')\n",
    "    article = []\n",
    "    for paragraphs in bs.find_all('p'):\n",
    "        article.append(paragraphs.get_text())\n",
    "\n",
    "    return ''.join(article)\n",
    "\n",
    "get_article_from_url(url)"
   ]
  },
  {
   "cell_type": "code",
   "execution_count": 7,
   "metadata": {},
   "outputs": [
    {
     "data": {
      "text/plain": [
       "['https://www.vg.no/nyheter/i/4BEwWq/afd-faar-historisk-valgseier-i-thuringen-fortvilende?utm_source=vgfront&utm_content=hovedlopet_row1_pos1&utm_medium=dre-66d4f13bb6345c30688f00d3',\n",
       " 'https://www.vg.no/rampelys/i/0VvdvM/mirian-carter-snublet-og-falt-paa-roed-loeper-i-venezia?utm_source=vgfront&utm_content=hovedlopet_row2_pos1&utm_medium=dre-66d4fff8b3a24eb173613659',\n",
       " 'https://tv.vg.no/video/306243/ndlander-midt-i-nabolaget?utm_source=vgfront&utm_content=hovedlopet_row2_pos2&utm_medium=dre-66d4c284b3a24eb1735850bf',\n",
       " 'https://www.vg.no/nyheter/i/1Mv9ze/to-personer-funnet-omkommet-i-sjoeen-utenfor-stavanger?utm_source=vgfront&utm_content=hovedlopet_row3_pos1&utm_medium=dre-66d47798b3a24eb17340ff67',\n",
       " 'https://www.vg.no/forbruker/i/KMMVLy/et-helvete-jeg-ikke-unner-noen?utm_source=vgfront&utm_content=hovedlopet_row4_pos1&utm_medium=dre-66d174abb3a24eb17360b5f0',\n",
       " 'https://www.vg.no/sport/i/Mn5G2r/mbappe-satte-fyr-paa-real-madrid?utm_source=vgfront&utm_content=hovedlopet_row5_pos1&utm_medium=dre-66d4e28bb3a24eb1735de8ab',\n",
       " 'https://www.vg.no/rampelys/i/zA0Jd4/george-clooney-og-pitt-foer-wolfs-premiere-en-nedtur?utm_source=vgfront&utm_content=hovedlopet_row5_pos2&utm_medium=dre-66d4c444b6345c306887e582',\n",
       " 'https://www.vg.no/nyheter/i/AvRwBM/reuters-israelsk-fagorganisasjon-gaar-til-generalstreik-mandag?utm_source=vgfront&utm_content=hovedlopet_row6_pos1&utm_medium=dre-66d48d5ab3a24eb17347a781',\n",
       " 'https://www.vg.no/sport/i/PpvJd7/erik-ten-hag-fyrte-tilbake-mot-daily-mails-sjefskribent?utm_source=vgfront&utm_content=hovedlopet_row7_pos1&utm_medium=dre-66d4d687b6345c30688b88eb',\n",
       " 'https://e24.no/norsk-oekonomi/i/lwM0kA/leier-ut-huset-for-400000-under-ski-vm?utm_source=vgfront&utm_content=hovedlopet_row7_pos2&referer=https%3A%2F%2Fwww.vg.no&utm_medium=dre-66d4a4d1b3a24eb1734f6e56',\n",
       " 'https://tv.vg.no/video/297348/halv-fet?utm_source=vgfront&utm_content=hovedlopet_row8_pos1&utm_term=dre-bcelew6v-1725141703%3Adre-bcelew6v-1725141703&utm_medium=dre-66d22db5b6345c3068f74388',\n",
       " 'https://tv.vg.no/video/297348/halv-fet?utm_source=vgfront&utm_content=hovedlopet_row8_pos1&utm_term=dre-bcelew6v-1725141703%3Adre-66d23024b3a24eb173c874a9&utm_medium=dre-66d23024b3a24eb173c874a9',\n",
       " 'https://tv.vg.no/video/297348/halv-fet?utm_source=vgfront&utm_content=hovedlopet_row8_pos1&utm_term=dre-bcelew6v-1725141703%3Adre-66d23024b3a24eb173c874aa&utm_medium=dre-66d23024b3a24eb173c874aa',\n",
       " 'https://tv.vg.no/video/297348/halv-fet?utm_source=vgfront&utm_content=hovedlopet_row8_pos1&utm_term=dre-bcelew6v-1725141703%3Adre-66d23024b3a24eb173c874ab&utm_medium=dre-66d23024b3a24eb173c874ab',\n",
       " 'https://tv.vg.no/video/297348/halv-fet?utm_source=vgfront&utm_content=hovedlopet_row8_pos1&utm_term=dre-bcelew6v-1725141703%3Adre-66d23024b3a24eb173c874ac&utm_medium=dre-66d23024b3a24eb173c874ac',\n",
       " 'https://tv.vg.no/video/297348/halv-fet?utm_source=vgfront&utm_content=hovedlopet_row8_pos1&utm_term=dre-bcelew6v-1725141703%3Adre-66d23024b3a24eb173c874ad&utm_medium=dre-66d23024b3a24eb173c874ad',\n",
       " 'https://tv.vg.no/video/306203/ser-ut-som-ronald-mcdonald?utm_source=vgfront&utm_content=hovedlopet_row9_pos1&utm_medium=dre-66d46bfbb6345c30686db292',\n",
       " 'https://www.vg.no/nyheter/i/4BEAye/nokas-raner-venter-paa-doeden?utm_source=vgfront&utm_content=hovedlopet_row9_pos2&utm_medium=dre-66d4882eb6345c30687585d3',\n",
       " 'https://www.vg.no/nyheter/i/qPOaMw/evakueringsalarm-paa-kaarstoe-i-tysvaer?utm_source=vgfront&utm_content=hovedlopet_row10_pos1&utm_medium=dre-66d4ebb4b3a24eb1735f3c7b',\n",
       " 'https://e24.no/internasjonal-oekonomi/i/pPMvXE/venter-prisvekst-etter-travel-maaned-aldri-hatt-flere-visninger?utm_source=vgfront&utm_content=hovedlopet_row11_pos1&referer=https%3A%2F%2Fwww.vg.no&utm_medium=dre-66d4c9b0b3a24eb17359dd18',\n",
       " 'https://www.vg.no/nyheter/i/Eybemo/en-mindreaarig-gutt-paagrepet-etter-knivstikking-paa-karl-johan-loerdag?utm_source=vgfront&utm_content=hovedlopet_row11_pos2&utm_medium=dre-66d4c9b0b3a24eb17359dd14',\n",
       " 'https://www.vg.no/sport/i/wgd2kn/hovland-avsluttet-kruttsterkt-innkasserte-10-5-millioner-i-pemie?utm_source=vgfront&utm_content=hovedlopet_row12_pos1&utm_medium=dre-66d4d719b6345c30688ba52a',\n",
       " 'https://tv.vg.no/video/306163/her-gr-det-galt-for-kong-charles?utm_source=vgfront&utm_content=hovedlopet_row14_pos2&utm_medium=dre-66d426feb3a24eb1732a03be',\n",
       " 'https://www.vg.no/nyheter/i/GyMKXQ/hjertet-til-soennen-sluttet-aa-banke?utm_source=vgfront&utm_content=hovedlopet_row15_pos1&utm_medium=dre-66cf15bca6d1f589dc55c1c2',\n",
       " 'https://www.vg.no/sport/i/Jbn5Aj/elleville-jubelscener-tagseth-avgjorde-hatoppgjoeret-for-rbk-paa-overtid?utm_source=vgfront&utm_content=hovedlopet_row16_pos1&utm_medium=dre-66d49c67b6345c30687b98a8',\n",
       " 'https://www.vg.no/sport/i/Rz1eL5/kashafali-tok-bronse-i-paralympics-slaatt-av-sterk-konkurrent?utm_source=vgfront&utm_content=hovedlopet_row16_pos2&utm_medium=dre-66d4a541b6345c30687e8528',\n",
       " 'https://www.vg.no/sport/i/Jbn8nj/ruud-exit-i-us-open-utnyttet-ikke-stjernekollaps?utm_source=vgfront&utm_content=hovedlopet_row17_pos1&utm_medium=dre-66d4c73ab3a24eb173594bae',\n",
       " 'https://www.vg.no/rampelys/i/kwMrjk/jennifer-lopez-med-meldinger-til-fansen-etter-bruddet-med-ben-affleck?utm_source=vgfront&utm_content=hovedlopet_row17_pos2&utm_medium=dre-66d49569b6345c306879a841',\n",
       " 'https://www.vg.no/nyheter/i/alG0oM/velgerne-kamala-harris-trenger-for-aa-vinne?utm_source=vgfront&utm_content=hovedlopet_row18_pos1&utm_medium=dre-66d499f3b6345c30687ae25f',\n",
       " 'https://www.vg.no/sport/i/alG935/eliteserie-oppsummering-veien-ligger-aapen-for-bodoe-glimt?utm_source=vgfront&utm_content=hovedlopet_row19_pos1&utm_term=dre-vg-alG935-1725223980%3Adre-vg-alG935-1725223980&utm_medium=dre-66d4d42bb3a24eb1735bdc0a',\n",
       " 'https://www.vg.no/sport/i/alG935/eliteserie-oppsummering-veien-ligger-aapen-for-bodoe-glimt?utm_source=vgfront&utm_content=hovedlopet_row19_pos1&utm_term=dre-vg-alG935-1725223980%3Adre-66d4d42bb3a24eb1735bdc0c&utm_medium=dre-66d4d42bb3a24eb1735bdc0c',\n",
       " 'https://www.vg.no/sport/i/alG935/eliteserie-oppsummering-veien-ligger-aapen-for-bodoe-glimt?utm_source=vgfront&utm_content=hovedlopet_row19_pos1&utm_term=dre-vg-alG935-1725223980%3Adre-66d4d42bb3a24eb1735bdc0e&utm_medium=dre-66d4d42bb3a24eb1735bdc0e',\n",
       " 'https://www.vg.no/sport/i/AvRwwq/ny-brann-smell-tapte-med-to-hjemme-mot-sarpsborg?utm_source=vgfront&utm_content=hovedlopet_row19_pos2&utm_medium=dre-66d4bbc6b6345c306885a690',\n",
       " 'https://www.vg.no/spesial/2024/politiagenten/del2/?utm_source=vgfront&utm_content=hovedlopet_row20_pos1&utm_medium=dre-66cf08fa480d805d2223720d',\n",
       " 'https://www.vg.no/sport/i/lwM2Vk/salah-varsler-liverpool-exit-ingen-har-snakket-med-meg?utm_source=vgfront&utm_content=hovedlopet_row21_pos1&utm_medium=dre-66d49cbcb6345c30687bca9b',\n",
       " 'https://www.vg.no/nyheter/i/93E1w9/chatgpt-ekspertene-deler-sine-beste-tips?utm_source=vgfront&utm_content=hovedlopet_row21_pos2&utm_medium=dre-66d183c3b6345c30689e12e7',\n",
       " 'https://e24.no/naeringsliv/i/zA0XOK/klart-for-ankesak-posten-krever-over-600-mill-av-gammelt-kartell?utm_source=vgfront&utm_content=hovedlopet_row22_pos1&referer=https%3A%2F%2Fwww.vg.no&utm_medium=dre-66d48f28b6345c3068778775',\n",
       " 'https://www.vg.no/rampelys/i/dRJ1qo/durek-verret-vi-hadde-bryllupet-vi-trengte-aa-ha?utm_source=vgfront&utm_content=hovedlopet_row23_pos1&utm_medium=dre-66d46006b6345c30686a36b5',\n",
       " 'https://www.vektklubb.no/inspirasjon/motivasjon/motivasjonstips/4BE0lq/cravings-slik-staar-du-imot-suget-etter-noe-soett-salt-eller-fett?utm_source=vgfront&utm_content=hovedlopet_row24_pos1&utm_medium=dre-66d46706b3a24eb1733c049f',\n",
       " 'https://www.vg.no/sport/i/zA02Er/thoresen-ferdig-paa-landslaget-etter-ol-nedtur?utm_source=vgfront&utm_content=hovedlopet_row24_pos2&utm_medium=dre-66d4a97fb3a24eb17350f52d',\n",
       " 'https://tv.vg.no/video/302885/juventus-roma?utm_source=vgfront&utm_content=hovedlopet_row25_pos1&utm_medium=dre-66cdc6cc6a9a66a886ec7783',\n",
       " 'https://www.vg.no/sport/i/1MvpPB/haikin-ble-glimt-helt-reddet-straffe-paa-overtid?utm_source=vgfront&utm_content=hovedlopet_row25_pos2&utm_medium=dre-66d49cf1b3a24eb1734cc773',\n",
       " 'https://www.vg.no/nyheter/i/PpvJ0J/kvinne-falt-i-synkehull-midt-i-malaysias-hovedstad-savnet-paa-niende-doegnet?utm_source=vgfront&utm_content=hovedlopet_row26_pos1&utm_medium=dre-66d4c10cb3a24eb1735801a3',\n",
       " 'https://www.vg.no/nyheter/i/nyLxRJ/donald-trump-vingling-om-abort-kan-avgjoere-valget?utm_source=vgfront&utm_content=hovedlopet_row27_pos1&utm_medium=dre-66d452d5b6345c3068666ee8',\n",
       " 'https://www.tek.no/test/i/kwv02B/dyson-ontrac?utm_source=vgfront&utm_content=hovedlopet_row27_pos2&utm_term=dre-yioh5lh8-1725212493%3Adre-yioh5lh8-1725212493&utm_medium=dre-66d1bf22b6345c3068ceeca9',\n",
       " 'https://www.tek.no/test/i/kwv02B/dyson-ontrac?utm_source=vgfront&utm_content=hovedlopet_row27_pos2&utm_term=dre-yioh5lh8-1725212493%3Adre-66d1bf3fb6345c3068cf0269&utm_medium=dre-66d1bf3fb6345c3068cf0269',\n",
       " 'https://www.tek.no/test/i/kwv02B/dyson-ontrac?utm_source=vgfront&utm_content=hovedlopet_row27_pos2&utm_term=dre-yioh5lh8-1725212493%3Adre-66d1bf6cb6345c3068cf2f41&utm_medium=dre-66d1bf6cb6345c3068cf2f41',\n",
       " 'https://www.tek.no/test/i/kwv02B/dyson-ontrac?utm_source=vgfront&utm_content=hovedlopet_row27_pos2&utm_term=dre-yioh5lh8-1725212493%3Adre-66d1bf81b3a24eb1739fb4c7&utm_medium=dre-66d1bf81b3a24eb1739fb4c7',\n",
       " 'https://www.tek.no/test/i/kwv02B/dyson-ontrac?utm_source=vgfront&utm_content=hovedlopet_row27_pos2&utm_term=dre-yioh5lh8-1725212493%3Adre-66d1bf8cb6345c3068cf49c4&utm_medium=dre-66d1bf8cb6345c3068cf49c4',\n",
       " 'https://www.tek.no/test/i/kwv02B/dyson-ontrac?utm_source=vgfront&utm_content=hovedlopet_row27_pos2&utm_term=dre-yioh5lh8-1725212493%3Adre-66d1bfabb6345c3068cf65c8&utm_medium=dre-66d1bfabb6345c3068cf65c8',\n",
       " 'https://www.tek.no/test/i/kwv02B/dyson-ontrac?utm_source=vgfront&utm_content=hovedlopet_row27_pos2&utm_term=dre-yioh5lh8-1725212493%3Adre-66d1bfb2b6345c3068cf6bd5&utm_medium=dre-66d1bfb2b6345c3068cf6bd5',\n",
       " 'https://www.tek.no/test/i/kwv02B/dyson-ontrac?utm_source=vgfront&utm_content=hovedlopet_row27_pos2&utm_term=dre-yioh5lh8-1725212493%3Adre-66d1bfbeb6345c3068cf7993&utm_medium=dre-66d1bfbeb6345c3068cf7993',\n",
       " 'https://www.vg.no/rampelys/i/gw3nnJ/durek-i-bryllupsloeftet-lover-aa-elske-deg-til-siste-pust?utm_source=vgfront&utm_content=hovedlopet_row28_pos1&utm_medium=dre-66d4837fb6345c30687457d4',\n",
       " 'https://www.vg.no/dinepenger/sparing-og-investering/i/Gy3vL9/syntetiske-diamanter-saa-lett-kan-du-bli-lurt?utm_source=vgfront&utm_content=hovedlopet_row28_pos2&vgfront=true&utm_medium=dre-66d17fb7b3a24eb1736ae317',\n",
       " 'https://www.vg.no/nyheter/i/PpvxV6/ytre-hoeyre-partiet-afd-stoerst-i-delstatsvalget-i-thuringen-ifoelge-valgdagsmaaling?utm_source=vgfront&utm_content=hovedlopet_row29_pos1&utm_medium=dre-66d49131b3a24eb173491944',\n",
       " 'https://www.minmote.no/strikk/strikkeoppskrifter/a/zEvRQK/strikkeoppskrift-triangelskjerfet?utm_source=vgfront&utm_content=hovedlopet_row30_pos1&utm_medium=dre-66d1cd44b6345c3068d8d79a',\n",
       " 'https://www.vg.no/nyheter/i/dRJ1Aj/her-endte-ferden?utm_source=vgfront&utm_content=hovedlopet_row30_pos2&utm_medium=dre-66d49275b6345c306878c74a',\n",
       " 'https://tv.vg.no/video/304775/historie-og-slyd?utm_source=vgfront&utm_content=hovedlopet_row31_pos1&utm_term=dre-svp-304775-1725126224%3Adre-svp-304775-1725126224&utm_medium=dre-66c795578908a7f6e6828391',\n",
       " 'https://tv.vg.no/video/304775/historie-og-slyd?utm_source=vgfront&utm_content=hovedlopet_row31_pos1&utm_term=dre-svp-304775-1725126224%3Adre-66c795a78908a7f6e6829338&utm_medium=dre-66c795a78908a7f6e6829338',\n",
       " 'https://tv.vg.no/video/304775/historie-og-slyd?utm_source=vgfront&utm_content=hovedlopet_row31_pos1&utm_term=dre-svp-304775-1725126224%3Adre-66c796c68908a7f6e682ce28&utm_medium=dre-66c796c68908a7f6e682ce28',\n",
       " 'https://tv.vg.no/video/304775/historie-og-slyd?utm_source=vgfront&utm_content=hovedlopet_row31_pos1&utm_term=dre-svp-304775-1725126224%3Adre-66c798038908a7f6e68321b1&utm_medium=dre-66c798038908a7f6e68321b1',\n",
       " 'https://tv.vg.no/video/304775/historie-og-slyd?utm_source=vgfront&utm_content=hovedlopet_row31_pos1&utm_term=dre-svp-304775-1725126224%3Adre-66c798038908a7f6e68321b2&utm_medium=dre-66c798038908a7f6e68321b2',\n",
       " 'https://www.vg.no/nyheter/i/Jbr0j8/baby-botox-ja-saa-galt-har-det-blitt?utm_source=vgfront&utm_content=hovedlopet_row32_pos1&utm_medium=dre-66d40acbb6345c306852e733',\n",
       " 'https://www.vg.no/sport/i/Rz1eW5/tre-nye-spillere-inn-i-landslagstroppen-ajer-ute?utm_source=vgfront&utm_content=hovedlopet_row32_pos2&utm_medium=dre-66d491e0b6345c3068789bde',\n",
       " 'https://www.vg.no/nyheter/i/W0gQEQ/rektor-slaatt-ned-rekrutterer-barn-ned-til-femte-klasse?utm_source=vgfront&utm_content=hovedlopet_row33_pos1&utm_medium=dre-66d4293fb3a24eb1732a83bc',\n",
       " 'https://www.vg.no/sport/i/kwMrw6/skarstein-raser-mot-parasatsing?utm_source=vgfront&utm_content=hovedlopet_row34_pos1&utm_medium=dre-66d463d0b3a24eb1733b24f0',\n",
       " 'https://e24.no/naeringsliv/i/Jbnp1R/haaland-har-kjoept-seg-tysk-boerstraktor-med-585-hestekrefter?utm_source=vgfront&utm_content=hovedlopet_row34_pos2&referer=https%3A%2F%2Fwww.vg.no&utm_medium=dre-66d471e6b3a24eb1733f5415',\n",
       " 'https://www.vg.no/sport/i/GyPLj4/ferrari-med-genistrek-paa-hjemmebane-dette-er-sensasjonelt?utm_source=vgfront&utm_content=hovedlopet_row35_pos1&utm_medium=dre-66d47835b3a24eb173411ec6',\n",
       " 'https://tv.vg.no/video/305982/flytter-bilen-s-raser-veggen?utm_source=vgfront&utm_content=hovedlopet_row35_pos2&utm_medium=dre-66d221fdb6345c3068f42a43',\n",
       " 'https://www.vg.no/nyheter/i/zA0Jk4/fikk-bil-inn-i-stuen-kona-foek-gjennom-rommet?utm_source=vgfront&utm_content=hovedlopet_row36_pos1&utm_medium=dre-66d46df6b3a24eb1733e1c5b',\n",
       " 'https://www.vg.no/sport/i/8qP8Vr/italiensk-roer-tatt-for-juks-i-paralympics-fratatt-bronsemedaljen?utm_source=vgfront&utm_content=hovedlopet_row37_pos1&utm_medium=dre-66d47485b6345c30687011db',\n",
       " 'https://www.godt.no/aktuelt/i/93BLK9/ukemeny-for-uke-36?utm_source=vgfront&utm_content=hovedlopet_row37_pos2&utm_medium=dre-66d1cb2fb3a24eb173a84e4c',\n",
       " 'https://www.vg.no/rampelys/i/mPKo54/haavard-lilleheie-jeg-har-faatt-en-stoerre-forstaaelse-for-meg-selv?utm_source=vgfront&utm_content=hovedlopet_row38_pos1&utm_medium=dre-66cf147da6d1f589dc548d8f',\n",
       " 'https://tv.vg.no/video/306038/kjedekollisjon-p-e6-her-smeller-det?utm_source=vgfront&utm_content=hovedlopet_row39_pos1&utm_medium=dre-66d1e6b6b3a24eb173b3a832',\n",
       " 'https://www.vg.no/rampelys/i/JbnAkm/david-mokel-sykeste-nach?utm_source=vgfront&utm_content=hovedlopet_row39_pos2&utm_medium=dre-66d43751b6345c30685e70fc',\n",
       " 'https://e24.no/naeringsliv/i/63P4qr/kiwi-eier-kritiserer-rapport-om-superprofitt?utm_source=vgfront&utm_content=hovedlopet_row40_pos1&referer=https%3A%2F%2Fwww.vg.no&utm_medium=dre-66d447d4b6345c3068635912',\n",
       " 'https://tv.vg.no/video/305753/knekker-av-haaland-sprsml?utm_source=vgfront&utm_content=hovedlopet_row41_pos1&utm_medium=dre-66d42898b6345c30685a3e45',\n",
       " 'https://www.vg.no/rampelys/i/yElJkE/klimaaktivisme-over-stokk-og-stein?utm_source=vgfront&utm_content=hovedlopet_row41_pos2&utm_medium=dre-66d4662bb3a24eb1733bce3c',\n",
       " 'https://www.vg.no/nyheter/i/4BEAqq/svensk-politi-soeker-etter-savnet-norsk-mann-i-60-aarene?utm_source=vgfront&utm_content=hovedlopet_row42_pos1&utm_medium=dre-66d423fdb6345c3068590dcd',\n",
       " 'https://e24.no/naeringsliv/i/634Pzo/vil-forby-budkrig-i-leiemarkedet-betaler-blodpris-for-bitte-smaa-leiligheter?utm_source=vgfront&utm_content=hovedlopet_row43_pos1&referer=https%3A%2F%2Fwww.vg.no&utm_medium=dre-66d40c80b6345c30685342b8',\n",
       " 'https://www.vg.no/rampelys/i/Avbp55/serietups-uke-35-fullstendig-bananas?utm_source=vgfront&utm_content=hovedlopet_row44_pos1&utm_medium=dre-66cee81d4cbaa218805580c8',\n",
       " 'https://www.vg.no/sport/i/93BAgM/skarstein-feilet-i-aa-forsvare-gullmedaljen-intens-sluttspurt-sikret-soelvet?utm_source=vgfront&utm_content=hovedlopet_row44_pos2&utm_medium=dre-66d43228b6345c30685cf98b',\n",
       " 'https://www.minmote.no/mote/brud/a/PpvAK7/sverre-magnus-foelge-kopierte-mette-marit?utm_source=vgfront&utm_content=hovedlopet_row45_pos1&utm_medium=dre-66d35d36b6345c306839563a',\n",
       " 'https://tv.vg.no/video/306136/prinsessen-vr-s-snill-lag-plass-til-oss?utm_source=vgfront&utm_content=hovedlopet_row45_pos2&utm_medium=dre-66d36102b3a24eb1730a99c3',\n",
       " 'https://tv.vg.no/video/305953/angripes-p-scenen?utm_source=vgfront&utm_content=hovedlopet_row46_pos1&utm_medium=dre-66d1a040b6345c3068b4e316',\n",
       " 'https://www.vg.no/nyheter/i/JbnA66/donald-trump-faar-kritikk-for-besoek-paa-aeresgravlund-i-arlington?utm_source=vgfront&utm_content=hovedlopet_row46_pos2&utm_medium=dre-66d3af0db6345c306847283d',\n",
       " 'https://www.tek.no/test/i/5E8P2b/asus-rog-ally-x-2024?utm_source=vgfront&utm_content=hovedlopet_row47_pos1&utm_medium=dre-66d1bd0db3a24eb1739da3aa',\n",
       " 'https://www.vg.no/forbruker/i/wg39EA/nye-regler-for-atv-og-utv-16-aaringer-tar-traktorlappen-vil-stramme-inn?utm_source=vgfront&utm_content=hovedlopet_row47_pos2&utm_medium=dre-66ced2b3480d805d22ee8b2a',\n",
       " 'https://www.vg.no/nyheter/i/rPMaym/sudan-en-krig-mot-folket?utm_source=vgfront&utm_content=hovedlopet_row48_pos1&utm_medium=dre-66d381adb3a24eb1731175f9',\n",
       " 'https://www.vg.no/rampelys/i/qPOB1E/alle-oasis-konsertene-er-utsolgt?utm_source=vgfront&utm_content=hovedlopet_row49_pos1&utm_medium=dre-66d37999b3a24eb1731031ad',\n",
       " 'https://www.vg.no/helse/i/rPMQem/nye-slankemedisiner-dette-kan-vi-vente-oss?utm_source=vgfront&utm_content=hovedlopet_row49_pos2&utm_medium=dre-66d17accb6345c3068959ac8',\n",
       " 'https://www.vg.no/nyheter/i/VzxBV6/kong-harald-i-geiranger-viser-styrke?utm_source=vgfront&utm_content=hovedlopet_row50_pos1&utm_medium=dre-66d3631ab6345c30683ae5c9',\n",
       " 'https://tv.vg.no/video/306156/se-maalene-hat-trick-haaland-herjet-mot-west-ham?utm_source=vgfront&utm_content=hovedlopet_row51_pos1&utm_medium=dre-66d34b06b3a24eb1730505bf',\n",
       " 'https://www.vg.no/sport/i/Mn58RE/erling-braut-haaland-hylles-av-pep-guardiola-etter-hat-tricket-mot-west-ham?utm_source=vgfront&utm_content=hovedlopet_row51_pos2&utm_medium=dre-66d389dcb3a24eb17312dcc7',\n",
       " 'https://www.vg.no/rampelys/i/KML9lE/her-hilser-nygifte-prinsesse-martha-og-durek-paa-folket?utm_source=vgfront&utm_content=hovedlopet_row52_pos1&utm_medium=dre-66d342adb3a24eb17302a693',\n",
       " 'https://www.minmote.no/mote/brud/a/XjoAen/martha-og-durek-gallamiddag-i-geiranger?utm_source=vgfront&utm_content=hovedlopet_row52_pos2&utm_medium=dre-66d34ef0b6345c306835c39b',\n",
       " 'https://tv.vg.no/video/305793/nb-sterke-inntrykk-hadde-magesmerter-i-lenger-tid-dette-fjernet-kirurgene?utm_source=vgfront&utm_content=hovedlopet_row53_pos1&utm_medium=dre-66cf7a4377b0d2e94dd2be6f',\n",
       " 'https://www.vg.no/sport/i/W0mKGg/nfl-spiller-ricky-pearsell-skutt-under-ransforsoek?utm_source=vgfront&utm_content=hovedlopet_row53_pos2&utm_medium=dre-66d40f78b6345c306853e7e4',\n",
       " 'https://e24.no/energi-og-klima/i/25vw64/kjernekraft-raad-boer-ikke-proeve-aa-finne-opp-hjulet-paa-nytt?utm_source=vgfront&utm_content=hovedlopet_row54_pos1&referer=https%3A%2F%2Fwww.vg.no&utm_medium=dre-66d34e53b6345c3068358ef5',\n",
       " 'https://www.vg.no/forbruker/i/3MBm19/vin-fra-hellas-disse-6-maa-du-proeve?utm_source=vgfront&utm_content=hovedlopet_row55_pos1&utm_medium=dre-66cdbc82661dafcffae0659d',\n",
       " 'https://www.vg.no/rampelys/i/zA0X44/tv-anmeldelse-lord-of-the-ring-the-rings-of-power-better-call-sauron?utm_source=vgfront&utm_content=hovedlopet_row55_pos2&utm_medium=dre-66d3359eb6345c30682eb96e',\n",
       " 'https://www.vg.no/forbruker/i/Oogl6b/trekkene-som-gjoer-deg-attraktiv?utm_source=vgfront&utm_content=hovedlopet_row56_pos1&utm_medium=dre-66cedb27480d805d22f6f6c6',\n",
       " 'https://www.vg.no/sport/i/KMLAGo/sol-bamba-er-doed-en-klubblegende?utm_source=vgfront&utm_content=hovedlopet_row56_pos2&utm_medium=dre-66d3abc3b3a24eb17317113f',\n",
       " 'https://www.vg.no/nyheter/i/25vkMB/siktet-naeringslivstopp-har-sagt-opp?utm_source=vgfront&utm_content=hovedlopet_row57_pos1&utm_medium=dre-66d300c7b3a24eb173ef7c1d',\n",
       " 'https://www.vg.no/dinepenger/sparing-og-investering/fond/i/Jx2xj8/beste-fond?utm_source=vgfront&utm_content=hovedlopet_row58_pos1&vgfront=true&utm_medium=dre-66d17c72b3a24eb17367842e',\n",
       " 'https://www.vg.no/rampelys/i/bmkng3/karianne-vilde-og-kristian-spetalen-er-gift?utm_source=vgfront&utm_content=hovedlopet_row58_pos2&utm_medium=dre-66d3455ab3a24eb173037cd8',\n",
       " 'https://www.vg.no/nyheter/i/25vk1v/kvinne-paagrepet-etter-trusselsituasjon-politiet-loesnet-varselskudd?utm_source=vgfront&utm_content=hovedlopet_row59_pos1&utm_medium=dre-66d25819b6345c3068fdf06d',\n",
       " 'https://www.vg.no/nyheter/i/KML9je/hvaldimir-er-doed?utm_source=vgfront&utm_content=hovedlopet_row60_pos1&utm_medium=dre-66d32256b3a24eb173f9e5a3',\n",
       " 'https://www.vg.no/dinepenger/bank-og-forsikring/i/Jbrzr7/fastrente-paa-boliglaan-derfor-boer-du-vurdere-fastrente-naa?utm_source=vgfront&utm_content=hovedlopet_row60_pos2&vgfront=true&utm_medium=dre-66cf1d59a6d1f589dc5b9fef',\n",
       " 'https://www.minmote.no/mote/brud/a/JbnMO8/martha-louise-og-durek-bryllup-i-geiranger?utm_source=vgfront&utm_content=hovedlopet_row61_pos1&utm_medium=dre-66d2edaab3a24eb173e9b4a7',\n",
       " 'https://www.vg.no/rampelys/i/kwM0pX/espen-lind-ville-egentlig-ikke-vaere-artist?utm_source=vgfront&utm_content=hovedlopet_row62_pos1&utm_medium=dre-66cf0c07480d805d222646c6',\n",
       " 'https://www.vg.no/rampelys/i/vgkKbw/medier-fatman-scoop-er-doed?utm_source=vgfront&utm_content=hovedlopet_row62_pos2&utm_medium=dre-66d32c65b3a24eb173fc78ee',\n",
       " 'https://tv.vg.no/serier/innsiden-antonio-nusa/s1e4/nusa-episode-4?id=304283&utm_source=vgfront&utm_content=hovedlopet_row63_pos1&utm_medium=dre-66bdc49e21c33cfdad7dc68a',\n",
       " 'https://tv.vg.no/video/306098/absurd-rdt-kort-oi-oi-oi?utm_source=vgfront&utm_content=hovedlopet_row64_pos1&utm_medium=dre-66d313d8b3a24eb173f57497',\n",
       " 'https://www.godt.no/oppskrifter/gryte/kjoettgryte/8203/lise-finckenhagens-klassiske-faarikaal?utm_source=vgfront&utm_content=hovedlopet_row64_pos2&utm_medium=dre-66d027879b828ad94fe701ae',\n",
       " 'https://www.vg.no/rampelys/i/Gyrn8B/sophie-elise-om-foedselsdepresjon-babytid-og-livsvalg-jeg-er-en-bra-mor?utm_source=vgfront&utm_content=hovedlopet_row65_pos1&utm_medium=dre-66c7379b8908a7f6e6604b6b',\n",
       " 'https://www.vg.no/rampelys/i/wgde6o/anniken-joergensen-og-theo-engelstad-er-gift?utm_source=vgfront&utm_content=hovedlopet_row66_pos1&utm_medium=dre-66d332ffb3a24eb173fe43bf',\n",
       " 'https://www.vg.no/dinepenger/familie/i/737yAW/kausjonist-veldig-risikabelt?utm_source=vgfront&utm_content=hovedlopet_row66_pos2&vgfront=true&utm_medium=dre-66cedfde480d805d22fb853d',\n",
       " 'https://www.vg.no/rampelys/i/zA0wKw/body-parts-dokumentar?utm_source=vgfront&utm_content=hovedlopet_row67_pos1&utm_medium=dre-66cdb7bd661dafcffadc67eb',\n",
       " 'https://www.vektklubb.no/inspirasjon/helse/helse-og-livsstil/o3K0Ja/fredrik-graesvik-tungt-aa-gaa-opp-bakker-og-trappa-hjemme?utm_source=vgfront&utm_content=hovedlopet_row68_pos1&utm_medium=dre-66d1bf37b3a24eb1739f7191',\n",
       " 'https://tv.vg.no/video/305884?utm_source=vgfront&utm_content=hovedlopet_row68_pos2&utm_medium=dre-66d065ff9b828ad94f1bf9d5',\n",
       " 'https://tv.vg.no/video/303463/livet-er-vakkert?utm_source=vgfront&utm_content=hovedlopet_row69_pos1&utm_medium=dre-66d05891d46a680dc585b394',\n",
       " 'https://tv.vg.no/video/303719/couples-therapy-41?utm_source=vgfront&utm_content=hovedlopet_row69_pos2&utm_medium=dre-66d05891d46a680dc585b395',\n",
       " 'https://www.vg.no/nyheter/i/Ooy82l/aslak-ble-lurt-i-undercover-aksjon-politiet-diktet-opp-kreftsyk-venn?utm_source=vgfront&utm_content=hoyrelopet_row1_pos1&utm_medium=dre-66cd5bee661dafcffa9d6a70',\n",
       " 'https://www.vg.no/nyheter/i/QMg9RW/mitt-liv-som-fyllik?utm_source=vgfront&utm_content=hoyrelopet_row2_pos1&utm_medium=dre-66c5b3eb52fa0fc1521d127e',\n",
       " 'https://tv.vg.no/video/273703/pningsrunde?utm_source=vgfront&utm_content=hoyrelopet_row3_pos1&utm_medium=dre-668aebdb35de7906318c2b67',\n",
       " 'https://www.tek.no/nyheter/nyhet/i/93B68d/garmin-med-nytt-monster-av-en-treningsklokke?utm_source=vgfront&utm_content=hoyrelopet_row4_pos1&utm_medium=dre-66d169adb6345c30688869fe',\n",
       " 'https://www.vg.no/i/Rz1Owr/kryssord-uke-35?utm_source=vgfront&utm_content=hoyrelopet_row5_pos1&utm_medium=dre-66d169f6b6345c3068889480',\n",
       " 'https://www.vg.no/i/LMojXQ/quiz-uke-35?utm_source=vgfront&utm_content=hoyrelopet_row6_pos1&utm_medium=dre-66d16a35b6345c306888c606',\n",
       " 'https://www.vg.no/rampelys/i/qPyQre/marius-borg-hoeiby-et-helt-spesielt-liv?utm_source=vgfront&utm_content=hoyrelopet_row7_pos1&utm_medium=dre-66c1d7e921c33cfdadbcd14f',\n",
       " 'https://www.vg.no/nyheter/i/LMMMLQ/pappas-kamp?utm_source=vgfront&utm_content=hoyrelopet_row8_pos1&utm_medium=dre-66ce19c2480d805d22bf2366',\n",
       " 'https://www.vg.no/dinepenger/eiendom/i/eMEr89/hvordan-fordele-overskudd-ved-boligsalg?utm_source=vgfront&utm_content=hoyrelopet_row9_pos1&vgfront=true&utm_medium=dre-66c872b08908a7f6e6d63b2f',\n",
       " 'https://www.tek.no/nyheter/nyhet/i/XjMmdr/kalium-batterier-skal-kunne-ta-over-for-litium-batterier-hevder-produsent?utm_source=vgfront&utm_content=hoyrelopet_row10_pos1&utm_medium=dre-66c1d750cc71d1d1dc136817',\n",
       " 'https://www.tek.no/nyheter/nyhet/i/zAlv6w/disse-fire-tegnene-kan-faa-iphonen-din-til-aa-krasje?utm_source=vgfront&utm_content=hoyrelopet_row11_pos1&utm_medium=dre-66c84a468908a7f6e6b6d9b2',\n",
       " 'https://www.vg.no/rampelys/i/Oogneb/pulsklokke-og-pms-sandra-lyng-om-stress-og-menstruasjon?utm_source=vgfront&utm_content=hoyrelopet_row12_pos1&utm_medium=dre-66c3107421c33cfdad1c94b1',\n",
       " 'https://www.vg.no/nyheter/i/LMMe0x/dement-som-barn?utm_source=vgfront&utm_content=hoyrelopet_row13_pos1&utm_medium=dre-66bc8c55cc71d1d1dc62acd8',\n",
       " 'https://www.tek.no/nyheter/nyhet/i/wgrooo/mercedes-blir-foerst-ute-med-avansert-selvkjoering?utm_source=vgfront&utm_content=hoyrelopet_row14_pos1&utm_medium=dre-66c1d72421c33cfdadbc9841',\n",
       " 'https://www.vg.no/nyheter/i/zAEqA9/suksessen-som-kostet-for-mye?utm_source=vgfront&utm_content=hoyrelopet_row15_pos1&utm_medium=dre-66bc6071cc71d1d1dc3a7989',\n",
       " 'https://www.vg.no/rampelys/i/QMJr1V/stina-bakken-og-per-fredrik-pellek-aasly-om-den-utfordrende-veien-mot-aa-bli-foreldre?utm_source=vgfront&utm_content=hoyrelopet_row16_pos1&utm_medium=dre-66bb6ad6cc71d1d1dcf86079',\n",
       " 'https://www.vg.no/nyheter/i/OooK9w/kan-bli-tidenes-stoerste-skandale?utm_source=vgfront&utm_content=hoyrelopet_row17_pos1&utm_medium=dre-66bafc34cc71d1d1dca7cbeb',\n",
       " 'https://www.tek.no/samletest/i/L58nvV/baerbare-pc-er-under-10-000-kroner?utm_source=vgfront&utm_content=hoyrelopet_row18_pos1&utm_medium=dre-66bb23be21c33cfdad6cc27a',\n",
       " 'https://www.tek.no/samletest/i/al73bd/billige-robotstoevsugere?utm_source=vgfront&utm_content=hoyrelopet_row19_pos1&utm_medium=dre-66b9e3cdcc71d1d1dc4c338e',\n",
       " 'https://www.vg.no/forbruker/i/8qpKe1/vintips-knallgode-billig-viner?utm_source=vgfront&utm_content=hoyrelopet_row20_pos1&utm_medium=dre-66b943eecc71d1d1dc097604',\n",
       " 'https://www.minmote.no/skjoennhet/tester/a/RzrV8a/test-solkrem-spray-til-ansikt?utm_source=vgfront&utm_content=hoyrelopet_row21_pos1&utm_medium=dre-66b9e45b21c33cfdadf53678',\n",
       " 'https://www.godt.no/inspirasjon/baer-oppskrifter-du-kan-lage-etter-baertur?utm_source=vgfront&utm_content=hoyrelopet_row22_pos1&utm_medium=dre-66b9e356cc71d1d1dc4bac82',\n",
       " 'https://www.vg.no/sport/i/0VGkmo/bartosz-piasecki-tok-ol-soelv-i-fekting-i-london-i-2012?utm_source=vgfront&utm_content=hoyrelopet_row23_pos1&utm_medium=dre-66b499b921c33cfdad62921b',\n",
       " 'https://www.godt.no/aktuelt/i/RzzoKr/vietnamesisk-mat?utm_source=vgfront&utm_content=hoyrelopet_row24_pos1&utm_medium=dre-66b5f5b321c33cfdadeba03f',\n",
       " 'https://www.tek.no/nyheter/nyhet/i/lwnxyL/meta-betaler-millioner-for-hollywood-stemmer?utm_source=vgfront&utm_content=hoyrelopet_row25_pos1&utm_medium=dre-66b49a5221c33cfdad632dd4',\n",
       " 'https://www.vg.no/nyheter/i/EyyrR2/furry-miljoeet-i-norge?utm_source=vgfront&utm_content=hoyrelopet_row26_pos1&utm_medium=dre-66b311d921c33cfdadaf0921',\n",
       " 'https://www.vg.no/rampelys/i/RzGzVa/kristoffer-joner-fant-kjaerligheten-i-hunden-walken?utm_source=vgfront&utm_content=hoyrelopet_row27_pos1&utm_medium=dre-66ad144bcc71d1d1dc63e044',\n",
       " 'https://www.vg.no/nyheter/i/KMneBo/unngaa-disse-pelstabbene-i-sommer?utm_source=vgfront&utm_content=hoyrelopet_row28_pos1&utm_medium=dre-66b3122821c33cfdadaf30b2',\n",
       " 'https://www.tek.no/nyheter/nyhet/i/73pkxo/google-tapte-i-retten-monopolist-sier-dommer?utm_source=vgfront&utm_content=hoyrelopet_row29_pos1&utm_medium=dre-66b49a27cc71d1d1dcb98479',\n",
       " 'https://tv.vg.no/video/267492/the-last-seagull?utm_source=vgfront&utm_content=hoyrelopet_row30_pos1&utm_medium=dre-66b1f8dbcc71d1d1dcaf43cc',\n",
       " 'https://www.vg.no/rampelys/i/pPBdpV/morten-sandoey-gaatt-paa-noen-smeller?utm_source=vgfront&utm_content=hoyrelopet_row31_pos1&utm_medium=dre-66b1f7b7cc71d1d1dcae7198',\n",
       " 'https://www.vg.no/helse/i/0VQl2o/mange-hadde-blitt-gal-av-det-ikke-erlend?utm_source=vgfront&utm_content=hoyrelopet_row32_pos1&utm_medium=dre-66b315e221c33cfdadb18fb5',\n",
       " 'https://www.vg.no/dinepenger/i/B0jEzE/kort-utdanning-hoey-loenn-nora-er-kranfoerer?utm_source=vgfront&utm_content=hoyrelopet_row33_pos1&vgfront=true&utm_medium=dre-66afe6f7cc71d1d1dcf18e16',\n",
       " 'https://www.vg.no/nyheter/i/633Jr0/studie-konsekvenser-av-skjermbruk-for-barn?utm_source=vgfront&utm_content=hoyrelopet_row34_pos1&utm_medium=dre-66b1f7fc21c33cfdad58a733',\n",
       " 'https://www.tek.no/test/i/0VVxRE/vi-har-testet-samsung-galaxy-z-fold6?utm_source=vgfront&utm_content=hoyrelopet_row35_pos1&utm_medium=dre-66aa5bd421c33cfdad0f5238',\n",
       " 'https://www.vg.no/helse/i/JbxEBP/sliter-du-med-aa-sove-paa-sommeren-her-er-tipsene-du-trenger?utm_source=vgfront&utm_content=hoyrelopet_row36_pos1&utm_medium=dre-66ab9431cc71d1d1dcd7eb3e',\n",
       " 'https://www.tek.no/korttest/i/EyyA02/deltaco-pb-q1004?utm_source=vgfront&utm_content=hoyrelopet_row37_pos1&utm_medium=dre-66aa5c1fcc71d1d1dc67a391',\n",
       " 'https://www.vg.no/rampelys/i/KMM6zX/joergine-funkygine-massa-vasstrand-jeg-har-ingen-egne-venner?utm_source=vgfront&utm_content=hoyrelopet_row38_pos1&utm_medium=dre-66aa4529cc71d1d1dc605537',\n",
       " 'https://www.vg.no/rampelys/i/W00VjQ/harmdirrende-om-aeresvold?utm_source=vgfront&utm_content=hoyrelopet_row39_pos1&utm_medium=dre-66aa4a29cc71d1d1dc6214f4',\n",
       " 'https://www.vg.no/helse/i/W0RVaQ/derfor-forblir-du-singel-tabbene-menn-og-kvinner-gjoer-paa-datingmarkedet?utm_source=vgfront&utm_content=hoyrelopet_row40_pos1&utm_medium=dre-66a8e179cc71d1d1dcd7c6e9',\n",
       " 'https://e24.no/naeringsliv/i/kwE9y6/hardt-ut-mot-eiendomsselskap-ble-fratatt-tomten-sin-uten-aa-faa-betalt?utm_source=vgfront&utm_content=hoyrelopet_row41_pos1&referer=https%3A%2F%2Fwww.vg.no&utm_medium=dre-669782d9455bab9db553acc0',\n",
       " 'https://www.vg.no/forbruker/i/allkkL/kjerringbil-mot-stroemmen?utm_source=vgfront&utm_content=hoyrelopet_row42_pos1&utm_medium=dre-66a74db5cc71d1d1dc30928c',\n",
       " 'https://www.tek.no/samletest/i/Xjgxpg/dette-er-maa-ha-brettspillene-alle-boer-proeve?utm_source=vgfront&utm_content=hoyrelopet_row43_pos1&utm_medium=dre-66aa5c8d21c33cfdad0f8d2e',\n",
       " 'https://www.vg.no/helse/i/xmgeQV/mest-grusomt-for-familien?utm_source=vgfront&utm_content=hoyrelopet_row44_pos1&utm_medium=dre-66a2287f455bab9db5ac4e09',\n",
       " 'https://www.tek.no/samletest/i/lAe8jA/vi-har-funnet-den-aller-beste-kjoekkenmaskinen?utm_source=vgfront&utm_content=hoyrelopet_row45_pos1&utm_medium=dre-6691e88d455bab9db5c01dd9',\n",
       " 'https://www.vg.no/rampelys/i/dRw1GA/nora-haukland-om-egne-alkoholvaner-har-utloest-en-ond-sirkel?utm_source=vgfront&utm_content=hoyrelopet_row46_pos1&utm_medium=dre-6693ffec455bab9db52c038d',\n",
       " 'https://www.vg.no/dinepenger/familie/i/5EGdge/fremtidsfullmakt-slik-sikrer-du-deg-selv?utm_source=vgfront&utm_content=hoyrelopet_row47_pos1&vgfront=true&utm_medium=dre-669e31b3e3bad5949b4b96e7',\n",
       " 'https://www.tek.no/test/i/K3d424/maskinene-som-lager-all-slags-is-uten-forberedelser?utm_source=vgfront&utm_content=hoyrelopet_row48_pos1&utm_medium=dre-667bbba14fcd2ed5624987ba',\n",
       " 'https://www.vg.no/helse/i/Gy3jWQ/bipolar-lidelse-nye-funn-om-livskvalitet?utm_source=vgfront&utm_content=hoyrelopet_row49_pos1&utm_medium=dre-6693ffec455bab9db52c0391']"
      ]
     },
     "execution_count": 7,
     "metadata": {},
     "output_type": "execute_result"
    }
   ],
   "source": [
    "class VGScraper:\n",
    "    def __init__(self):\n",
    "        self.url = 'https://www.vg.no'\n",
    "        #self.urls = []\n",
    "    \n",
    "    def get_html(self):\n",
    "        html = urlopen(self.url)\n",
    "        bs = BeautifulSoup(html, 'html.parser')\n",
    "        return bs\n",
    "    \n",
    "    def get_urls(self):\n",
    "        bs = self.get_html()\n",
    "        urls = []\n",
    "        for item in bs.find_all('a', {'itemprop': 'url'}):\n",
    "            if item['href']:\n",
    "               urls.append(item['href'])\n",
    "        \n",
    "        return urls\n",
    "    \n",
    "    def get_article_from_url(self, url):\n",
    "        req = urlopen(url)\n",
    "        \n",
    "\n",
    "\n",
    "\n",
    "s = VGScraper()\n",
    "s.get_urls()\n",
    "s.urls"
   ]
  },
  {
   "cell_type": "code",
   "execution_count": null,
   "metadata": {},
   "outputs": [],
   "source": []
  }
 ],
 "metadata": {
  "kernelspec": {
   "display_name": "myvenv",
   "language": "python",
   "name": "python3"
  },
  "language_info": {
   "codemirror_mode": {
    "name": "ipython",
    "version": 3
   },
   "file_extension": ".py",
   "mimetype": "text/x-python",
   "name": "python",
   "nbconvert_exporter": "python",
   "pygments_lexer": "ipython3",
   "version": "3.10.12"
  }
 },
 "nbformat": 4,
 "nbformat_minor": 2
}
