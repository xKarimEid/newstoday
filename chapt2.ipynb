{
 "cells": [
  {
   "cell_type": "code",
   "execution_count": 2,
   "metadata": {},
   "outputs": [],
   "source": [
    "import requests\n",
    "from urllib.request import urlopen\n",
    "from bs4 import BeautifulSoup\n"
   ]
  },
  {
   "cell_type": "code",
   "execution_count": 29,
   "metadata": {},
   "outputs": [
    {
     "name": "stdout",
     "output_type": "stream",
     "text": [
      "b'<html>\\n<head>\\n<title>A Useful Page</title>\\n</head>\\n<body>\\n<h1>An Interesting Title</h1>\\n<div>\\nLorem ipsum dolor sit amet, consectetur adipisicing elit, sed do eiusmod tempor incididunt ut labore et dolore magna aliqua. Ut enim ad minim veniam, quis nostrud exercitation ullamco laboris nisi ut aliquip ex ea commodo consequat. Duis aute irure dolor in reprehenderit in voluptate velit esse cillum dolore eu fugiat nulla pariatur. Excepteur sint occaecat cupidatat non proident, sunt in culpa qui officia deserunt mollit anim id est laborum.\\n</div>\\n</body>\\n</html>\\n'\n"
     ]
    }
   ],
   "source": [
    "vg = 'https://www.vg.no/'\n",
    "url = 'https://pythonscraping.com/pages/page1.html'\n",
    "html = urlopen(url).read()\n",
    "\n",
    "print(html)"
   ]
  },
  {
   "cell_type": "code",
   "execution_count": 28,
   "metadata": {},
   "outputs": [
    {
     "name": "stdout",
     "output_type": "stream",
     "text": [
      "<h1 class=\"screen-reader-hidden\">VG Forside</h1>\n"
     ]
    }
   ],
   "source": [
    "\n",
    "html = urlopen(vg)\n",
    "\n",
    "bs = BeautifulSoup(html, 'html.parser')\n",
    "print(bs.h1)"
   ]
  },
  {
   "cell_type": "code",
   "execution_count": 11,
   "metadata": {},
   "outputs": [
    {
     "data": {
      "text/plain": [
       "b'<html>\\n<head>\\n<title>A Useful Page</title>\\n</head>\\n<body>\\n<h1>An Interesting Title</h1>\\n<div>\\nLorem ipsum dolor sit amet, consectetur adipisicing elit, sed do eiusmod tempor incididunt ut labore et dolore magna aliqua. Ut enim ad minim veniam, quis nostrud exercitation ullamco laboris nisi ut aliquip ex ea commodo consequat. Duis aute irure dolor in reprehenderit in voluptate velit esse cillum dolore eu fugiat nulla pariatur. Excepteur sint occaecat cupidatat non proident, sunt in culpa qui officia deserunt mollit anim id est laborum.\\n</div>\\n</body>\\n</html>\\n'"
      ]
     },
     "execution_count": 11,
     "metadata": {},
     "output_type": "execute_result"
    }
   ],
   "source": [
    "requests.get(url).content"
   ]
  },
  {
   "cell_type": "code",
   "execution_count": 53,
   "metadata": {},
   "outputs": [],
   "source": [
    "url = 'https://www.pythonscraping.com/pages/warandpeace.html'\n",
    "\n",
    "def get_html(url):\n",
    "    try:\n",
    "        html = urlopen(url)\n",
    "        bs = BeautifulSoup(html, 'html.parser')\n",
    "        return bs\n",
    "    \n",
    "    except Exception as e:\n",
    "        print(f\"Error occured {e}\")\n",
    "        return None\n",
    "\n",
    "html = get_html(url)\n",
    "\n",
    "# Find_all takes tagName, tagAttributes\n",
    "names = html.find_all('span', {'class': 'green'})\n",
    "for name in names:\n",
    "    pass\n",
    "    #print(name.get_text())"
   ]
  },
  {
   "cell_type": "code",
   "execution_count": 60,
   "metadata": {},
   "outputs": [],
   "source": [
    "url = 'https://www.vg.no/'\n",
    "\n",
    "def get_html(url):\n",
    "    try:\n",
    "        html = urlopen(url)\n",
    "        bs = BeautifulSoup(html, 'html.parser')\n",
    "        return bs\n",
    "    \n",
    "    except Exception as e:\n",
    "        print(f\"Error occured {e}\")\n",
    "        return None\n",
    "\n",
    "html = get_html(url)\n",
    "\n"
   ]
  },
  {
   "cell_type": "code",
   "execution_count": 61,
   "metadata": {},
   "outputs": [
    {
     "data": {
      "text/plain": [
       "170"
      ]
     },
     "execution_count": 61,
     "metadata": {},
     "output_type": "execute_result"
    }
   ],
   "source": [
    "\n",
    "def get_urls(html):\n",
    "    urls = []\n",
    "    # Find_all takes tagName, tagAttributes\n",
    "    names = html.find_all('a', {'itemprop': 'url'})\n",
    "    for name in names:\n",
    "        if 'href' in name.attrs:\n",
    "            urls.append(name['href'])\n",
    "            #print(name.get_text())\n",
    "    \n",
    "    return urls\n",
    "\n",
    "urls = get_urls(html)\n",
    "len(urls)"
   ]
  },
  {
   "cell_type": "code",
   "execution_count": 70,
   "metadata": {},
   "outputs": [
    {
     "data": {
      "text/plain": [
       "'RampelysIkke abonnentFilmkompisene George Clooney og Brad Pitt lettet på sløret i Venezia søndag – både om planene for sin nye film og om Joe Biden.De to er aktuelle med krim-thriller-komedien «Wolfs», som opprinnelig skulle få kinovisning via Sony Pictures verden over før Apple TV+ legger den utfor strømming.Men rundt juletider bestemte Apple at de vil ha begrenset med kinovisning. Filmen settes opp på det store lerretet 20. september, men bare etter en uke får den strømmepremiere.Det misliker Clooney (63) og Pitt (60). Begge innrømmet i Venezia at de har kuttet i sine egne honorarer for å unngå denne løsningen, skriver Deadline.– Vi har støtt på noen hindringer underveis. Sånt skjer, sa Clooney på en pressekonferanse for filmen søndag.Clooney har vært borti det samme før.– Da jeg gjorde «The Boys in the Boat» (i fjor, red. anm.), var det for MGM, men så endte den opp hos Amazon, og vi fikk ingen utenlandslansering i det hele tatt, noe som var en overraskelse, forklarte han. – Det er sider ved dette som vi prøver å finne ut av. For det er selvfølgelig en nedtur, absolutt en nedtur. (...) Vi får en lansering i noen hundre kinoer. Men, ja, det hadde vært bedre med en bredere lansering.Clooney og Pitt skal likevel ha presisert at de mener strømming er viktig for bransjen.– Dette er en revolusjon for vår industri, sa Clooney – som maner til å finne en måte kinodistributørene og strømmegigantene kan samarbeide for felles gevinst.Pitt har for øvrig med seg kjæresten Ines de Ramon (34) til festivalen. To måneder har gått siden de to første gang viste seg offisielt sammen.Paret skred opp den røde løperen hånd i hånd søndag kveld. Det er første gang de to virkelig flagger at de er kjærester.Helt siden november 2022 har amerikanske medier spekulert rundt hvorvidt Pitt har falt for den 26 år yngre smykkedesigneren og forretningskvinnen. Nå er det ingen tvil lenger.George Clooney har med seg kona Amal Clooney (46) . De poserte tett omsvermet.Amal, berømt menneskerettighetsadvokat, er blitt blondere i håret siden sist hun viste seg i rampelyset.Om Clooney er misfornøyd med filmdistrubusjonen, så er den politisk engasjerte Hollywood-stjernen svært fornøyd med utviklingen før presidentvalget i USA.63-åringen, som er demokrat på sin hals, var blant dem som gikk ut og innstendig oppfordret president Joe Biden (81) om å trekke seg fra det kommende valget.Finn ut hvor favorittseriene dine kan streames. Bruk VGs TV-guide!Ikke lenge etter ble Clooney og de andre bønnhørt. Biden trakk seg 21. juli.– Jeg har ikke blitt spurt om hva jeg tenker om dette, så derfor tenker jeg å gjøre det her – og skal ha fått applaus fra salen.– Den som fortjener applaus, er presidenten som har stått for den mest uselviske handlingen siden George WashingtonI 1789 ble han valgt til USAs første president, og ble gjenvalgt i 1792. I 1796 avslo han å stille til valg for en tredje periode., sa Clooney.Han fortsatte:– Det er veldig vanskelig å gi fra seg makt, det vet vi. Vi har sett det over hele verden. Og for noen å si at «jeg tror det finnes en bedre vei fremover» – all ære til ham. Det er virkelig sannheten. «Wolfs» handler for øvrig om en profesjonell fikser som blir leid inn for å dekke over en høyprofilert forbrytelse. Men en annen fikser dukker opp, og de to må motvillig samarbeide.Filmen får sin første pressevisning i Venezia mandag.Clooney og Pitt har spilt i en lang rekke filmer sammen opp gjennom årene, deriblant «Oceans»-filmene og «Burn After Reading».Informasjon om AI i VG-artiklerEt kommersielt samarbeid med Kickback.noVG har ikke ansvar for innhold på eksterne nettsider som det lenkes til. Kopiering av materiale fra VG for bruk annet sted, crawling, skraping, indeksering (for eksempel tekst og datamining) er ikke tillatt uten avtale.'"
      ]
     },
     "execution_count": 70,
     "metadata": {},
     "output_type": "execute_result"
    }
   ],
   "source": [
    "url = urls[2]\n",
    "\n",
    "def get_article_from_url(url):\n",
    "    req = urlopen(url)\n",
    "    bs = BeautifulSoup(req, 'html.parser')\n",
    "    article = []\n",
    "    for paragraphs in bs.find_all('p'):\n",
    "        article.append(paragraphs.get_text())\n",
    "\n",
    "    return ''.join(article)\n",
    "\n",
    "get_article_from_url(url)"
   ]
  },
  {
   "cell_type": "code",
   "execution_count": 14,
   "metadata": {},
   "outputs": [],
   "source": [
    "class VGScraper:\n",
    "    def __init__(self):\n",
    "        self.url = 'https://www.vg.no'\n",
    "        #self.urls = []\n",
    "    \n",
    "    def get_html(self):\n",
    "        html = urlopen(self.url)\n",
    "        bs = BeautifulSoup(html, 'html.parser')\n",
    "        return bs\n",
    "    \n",
    "    def get_urls(self):\n",
    "        bs = self.get_html()\n",
    "        urls = []\n",
    "        for item in bs.find_all('a', {'itemprop': 'url'}):\n",
    "            if item['href']:\n",
    "               urls.append(item['href'])\n",
    "        \n",
    "        return urls\n",
    "    \n",
    "    def get_article_from_url(self, url):\n",
    "        req = urlopen(url)\n",
    "        bs = BeautifulSoup(req, 'html.parser')\n",
    "        paraghs = []\n",
    "        for p in bs.find_all('p'):\n",
    "            paraghs.append(p.get_text())\n",
    "        \n",
    "        return ' '.join(paraghs)\n",
    "\n",
    "\n",
    "\n",
    "s = VGScraper()\n",
    "urls = s.get_urls()\n"
   ]
  },
  {
   "cell_type": "code",
   "execution_count": 15,
   "metadata": {},
   "outputs": [
    {
     "data": {
      "text/plain": [
       "'Nyheter Ikke abonnent Det ytre høyre-partiet Alternativ for Tyskland (AfD) ligger an til brakvalg i to tyske delstater. På søndag stemte folk i delstatsvalgetEt valg som finner sted i en av Tysklands delstater, hvor velgerne stemmer på sitt regionale parlament. i Sachsen og Thüringen i Tyskland.  Nå ser det ut til at det ytre høyre-partiet AfD har vunnet i Thüringen. Ifølge beregninger av\\xa0infratest dimap Et meningsmålingsinstitutt som utfører og publiserer meningsmålinger, blant annet om politiske valg.\\xa0har partiet vunnet mer enn en tredjedel av setene i Erfurt delstatsparlament i Thüringen, med 32,9 prosent. Det skriver den tyske avisen ARD.  Partiet blir beskrevet som ekstremistisk av den tyske etterretningstjenesten i begge delstatene. Lederen for partiet i delstaten Thüringen, Björn Höcke, er også dømt for nazi-retorikk. Det er første gang et ytre høyre-parti vinner et delstatsvalg siden andre verdenskrig. Astrid Sverresdotter Dypvik er journalist og historiker. Hun har skrevet flere bøker om tysk etterkrigshistorie. Hun sier til VG at selv om dette har ligget i kortene, så er det bekymringsverdig. Journalist, historiker og redaktør for Syn og Segn. – Selv om de har alle parametere som gjør at de kan gjøre et godt valg i Øst-Tyskland, så synes jeg det er sjokkerende.  – Jeg blir veldig fortvilet over at politikere, som så til de grader tar opp elementer fra den mørke tyske fortiden kan gjøre det så bra. Det er ekstremt urovekkende. Hele det politiske Tyskland er i alarm. I Tyskland har hver delstat sin egen regjering. Hver delstat har mye selvstendighet og har blant annet ansvar for skolene, politiet, kultur og miljøpolitikk. I delstaten Sachsen, hvor det også har vært valg søndag, ligger partiet AfD i skrivende stund like bak partiet CDU. CDU er kristendemokratene i Tyskland og har sittet på makten i delstaten de siste årene. Ifølge den tyske avisen ARD har CDU 31,8 prosent av stemmene, men AfD følger like bak med 30,8 prosent av stemmene. Dypvik forteller at selv om AfD gjør det bra i begge delstatene, er det ikke nødvendigvis slik at de vil få mye makt. – Fortsatt sier alle de andre partiene at de ikke vil samarbeide med AfD. Hverken i lokalpolitikken og delstatspolitikken vil de samarbeide med dem. AfD må ha over 50 prosent for å ha flertall. Men i Thüringen, hvor de nå har en tredel av stemmene, så kan det ha litt betydning. – Hvis de får over en tredjedel i landdagen i delstatsparlamentet i Thüringen, så kan de påvirke lovvedtak. For å få vedtatt lover i delstatene må man ha et flertall på to tredeler, dermed kan AfD hindre at lover blir vedtatt. Dypvik forteller at det er flere grunner til at det ytre høyre-partiet gjør det bra i Øst-Tyskland. – En viktig grunn er at Øst-delstatene har slitt økonomisk i mange år. Helt siden 90-tallet har de slitt med fraflytting. Det har vært en generell fremtidspessimisme og det har grodd frem en anti-regjeringstankegang.  Dypvik forteller også at Thüringen er den delstaten i Tyskland som har nest-eldst befolkning, og har hatt befolkningsnedgang siden 90-tallet. – I Vest-Tyskland og Berlin har de lært av fortiden og vil ha et flerkulturelt samfunn, men AfD-tilhengerne hater det flerkulturelle samfunnet, sier hun. Flere av velgerne til AfD er helt åpne om at de ikke støtter innvandring på noen som helst måte. – I velgerundersøkelsen fra europavalget sa 90 prosent av Afd-tilhengerne at antiinnvandring var den aller viktigste saken for dem. – Björn Höcke mener at Tyskland utsletter seg selv og at Tyskland er truet av innvandring. Han er en politisk hysteriker og mener de eneste som kan frelse Tyskland er han selv og andre politikere som skal snu opp ned på absolutt alt. Om to uker er det delstatsvalg i Brandenburg. – Også i Brandenburg har det vært mye ekstremister i partiet, så AfD i sin aller mest radikaliserte variant finner man der også. – Selv om de ikke er like store der som i Thüringen og Sachsen, ligger de an til å gjøre et godt valg der óg. Informasjon om AI i VG-artikler Per Olav Ødegård Kommentator  Et kommersielt samarbeid med Kickback.no VG har ikke ansvar for innhold på eksterne nettsider som det lenkes til. Kopiering av materiale fra VG for bruk annet sted, crawling, skraping, indeksering (for eksempel tekst og datamining) er ikke tillatt uten avtale.'"
      ]
     },
     "execution_count": 15,
     "metadata": {},
     "output_type": "execute_result"
    }
   ],
   "source": [
    "url = urls[0]\n",
    "s.get_article_from_url(url)"
   ]
  },
  {
   "cell_type": "code",
   "execution_count": 13,
   "metadata": {},
   "outputs": [
    {
     "data": {
      "text/plain": [
       "'https://www.vg.no/nyheter/i/4BEwWq/afd-faar-historisk-valgseier-i-thuringen-fortvilende?utm_source=vgfront&utm_content=hovedlopet_row1_pos1&utm_medium=dre-66d4f13bb6345c30688f00d3'"
      ]
     },
     "execution_count": 13,
     "metadata": {},
     "output_type": "execute_result"
    }
   ],
   "source": [
    "url"
   ]
  }
 ],
 "metadata": {
  "kernelspec": {
   "display_name": "myvenv",
   "language": "python",
   "name": "python3"
  },
  "language_info": {
   "codemirror_mode": {
    "name": "ipython",
    "version": 3
   },
   "file_extension": ".py",
   "mimetype": "text/x-python",
   "name": "python",
   "nbconvert_exporter": "python",
   "pygments_lexer": "ipython3",
   "version": "3.10.12"
  }
 },
 "nbformat": 4,
 "nbformat_minor": 2
}
